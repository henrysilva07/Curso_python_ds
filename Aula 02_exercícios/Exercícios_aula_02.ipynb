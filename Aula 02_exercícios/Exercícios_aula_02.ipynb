{
 "cells": [
  {
   "cell_type": "markdown",
   "id": "aa3e8125",
   "metadata": {},
   "source": [
    "# Análise exploratória dos dados "
   ]
  },
  {
   "cell_type": "markdown",
   "id": "e39433e4",
   "metadata": {},
   "source": [
    "A  House Rocket  é uma empresa do mercado imobiliário, atuando na compra e revenda de imóveis usados. Nesse contexto, o CEO da empresa busca realizar suas tomadas de decisões por meio de insights retirados de uma base de dados externa que contém informações acerca dos imóveis da região, como preço, número de quartos, banheiros e etc. \n",
    "\n",
    "Para isso O CEO da empresa realizou uma série de perguntar e necessita que elas sejam enviada por e-mail em um txt, junto com dois anexos (um mapa e um .csv com os dados)"
   ]
  },
  {
   "cell_type": "markdown",
   "id": "7f081420",
   "metadata": {},
   "source": [
    "### Importando as bibliotecas"
   ]
  },
  {
   "cell_type": "code",
   "execution_count": 35,
   "id": "f3c582c7",
   "metadata": {
    "ExecuteTime": {
     "end_time": "2022-01-04T11:33:39.073345Z",
     "start_time": "2022-01-04T11:33:39.067033Z"
    }
   },
   "outputs": [],
   "source": [
    "import pandas as pd\n",
    "import numpy as np\n",
    "import plotly.express as plotly\n",
    "\n",
    "#Formatando os valores float - Notificação científica\n",
    "np.set_printoptions(suppress=True)\n",
    "pd.set_option('display.float_format', '{:.2f}'.format)"
   ]
  },
  {
   "cell_type": "markdown",
   "id": "434453bb",
   "metadata": {},
   "source": [
    "### Carregando o dataset"
   ]
  },
  {
   "cell_type": "code",
   "execution_count": 4,
   "id": "fe99a547",
   "metadata": {
    "ExecuteTime": {
     "end_time": "2022-01-04T11:33:17.506142Z",
     "start_time": "2022-01-04T11:33:17.400116Z"
    }
   },
   "outputs": [],
   "source": [
    "df = pd.read_csv(r'C:\\Users\\henry\\repositorios_ds\\Curso_python_ds\\dataset\\kc_house_data.csv')"
   ]
  },
  {
   "cell_type": "code",
   "execution_count": 5,
   "id": "a30a7849",
   "metadata": {
    "ExecuteTime": {
     "end_time": "2022-01-04T11:33:17.569127Z",
     "start_time": "2022-01-04T11:33:17.508395Z"
    }
   },
   "outputs": [
    {
     "data": {
      "text/html": [
       "<div>\n",
       "<style scoped>\n",
       "    .dataframe tbody tr th:only-of-type {\n",
       "        vertical-align: middle;\n",
       "    }\n",
       "\n",
       "    .dataframe tbody tr th {\n",
       "        vertical-align: top;\n",
       "    }\n",
       "\n",
       "    .dataframe thead th {\n",
       "        text-align: right;\n",
       "    }\n",
       "</style>\n",
       "<table border=\"1\" class=\"dataframe\">\n",
       "  <thead>\n",
       "    <tr style=\"text-align: right;\">\n",
       "      <th></th>\n",
       "      <th>id</th>\n",
       "      <th>date</th>\n",
       "      <th>price</th>\n",
       "      <th>bedrooms</th>\n",
       "      <th>bathrooms</th>\n",
       "      <th>sqft_living</th>\n",
       "      <th>sqft_lot</th>\n",
       "      <th>floors</th>\n",
       "      <th>waterfront</th>\n",
       "      <th>view</th>\n",
       "      <th>...</th>\n",
       "      <th>grade</th>\n",
       "      <th>sqft_above</th>\n",
       "      <th>sqft_basement</th>\n",
       "      <th>yr_built</th>\n",
       "      <th>yr_renovated</th>\n",
       "      <th>zipcode</th>\n",
       "      <th>lat</th>\n",
       "      <th>long</th>\n",
       "      <th>sqft_living15</th>\n",
       "      <th>sqft_lot15</th>\n",
       "    </tr>\n",
       "  </thead>\n",
       "  <tbody>\n",
       "    <tr>\n",
       "      <th>0</th>\n",
       "      <td>7129300520</td>\n",
       "      <td>20141013T000000</td>\n",
       "      <td>221900.00</td>\n",
       "      <td>3</td>\n",
       "      <td>1.00</td>\n",
       "      <td>1180</td>\n",
       "      <td>5650</td>\n",
       "      <td>1.00</td>\n",
       "      <td>0</td>\n",
       "      <td>0</td>\n",
       "      <td>...</td>\n",
       "      <td>7</td>\n",
       "      <td>1180</td>\n",
       "      <td>0</td>\n",
       "      <td>1955</td>\n",
       "      <td>0</td>\n",
       "      <td>98178</td>\n",
       "      <td>47.51</td>\n",
       "      <td>-122.26</td>\n",
       "      <td>1340</td>\n",
       "      <td>5650</td>\n",
       "    </tr>\n",
       "    <tr>\n",
       "      <th>1</th>\n",
       "      <td>6414100192</td>\n",
       "      <td>20141209T000000</td>\n",
       "      <td>538000.00</td>\n",
       "      <td>3</td>\n",
       "      <td>2.25</td>\n",
       "      <td>2570</td>\n",
       "      <td>7242</td>\n",
       "      <td>2.00</td>\n",
       "      <td>0</td>\n",
       "      <td>0</td>\n",
       "      <td>...</td>\n",
       "      <td>7</td>\n",
       "      <td>2170</td>\n",
       "      <td>400</td>\n",
       "      <td>1951</td>\n",
       "      <td>1991</td>\n",
       "      <td>98125</td>\n",
       "      <td>47.72</td>\n",
       "      <td>-122.32</td>\n",
       "      <td>1690</td>\n",
       "      <td>7639</td>\n",
       "    </tr>\n",
       "    <tr>\n",
       "      <th>2</th>\n",
       "      <td>5631500400</td>\n",
       "      <td>20150225T000000</td>\n",
       "      <td>180000.00</td>\n",
       "      <td>2</td>\n",
       "      <td>1.00</td>\n",
       "      <td>770</td>\n",
       "      <td>10000</td>\n",
       "      <td>1.00</td>\n",
       "      <td>0</td>\n",
       "      <td>0</td>\n",
       "      <td>...</td>\n",
       "      <td>6</td>\n",
       "      <td>770</td>\n",
       "      <td>0</td>\n",
       "      <td>1933</td>\n",
       "      <td>0</td>\n",
       "      <td>98028</td>\n",
       "      <td>47.74</td>\n",
       "      <td>-122.23</td>\n",
       "      <td>2720</td>\n",
       "      <td>8062</td>\n",
       "    </tr>\n",
       "    <tr>\n",
       "      <th>3</th>\n",
       "      <td>2487200875</td>\n",
       "      <td>20141209T000000</td>\n",
       "      <td>604000.00</td>\n",
       "      <td>4</td>\n",
       "      <td>3.00</td>\n",
       "      <td>1960</td>\n",
       "      <td>5000</td>\n",
       "      <td>1.00</td>\n",
       "      <td>0</td>\n",
       "      <td>0</td>\n",
       "      <td>...</td>\n",
       "      <td>7</td>\n",
       "      <td>1050</td>\n",
       "      <td>910</td>\n",
       "      <td>1965</td>\n",
       "      <td>0</td>\n",
       "      <td>98136</td>\n",
       "      <td>47.52</td>\n",
       "      <td>-122.39</td>\n",
       "      <td>1360</td>\n",
       "      <td>5000</td>\n",
       "    </tr>\n",
       "    <tr>\n",
       "      <th>4</th>\n",
       "      <td>1954400510</td>\n",
       "      <td>20150218T000000</td>\n",
       "      <td>510000.00</td>\n",
       "      <td>3</td>\n",
       "      <td>2.00</td>\n",
       "      <td>1680</td>\n",
       "      <td>8080</td>\n",
       "      <td>1.00</td>\n",
       "      <td>0</td>\n",
       "      <td>0</td>\n",
       "      <td>...</td>\n",
       "      <td>8</td>\n",
       "      <td>1680</td>\n",
       "      <td>0</td>\n",
       "      <td>1987</td>\n",
       "      <td>0</td>\n",
       "      <td>98074</td>\n",
       "      <td>47.62</td>\n",
       "      <td>-122.05</td>\n",
       "      <td>1800</td>\n",
       "      <td>7503</td>\n",
       "    </tr>\n",
       "  </tbody>\n",
       "</table>\n",
       "<p>5 rows × 21 columns</p>\n",
       "</div>"
      ],
      "text/plain": [
       "           id             date     price  bedrooms  bathrooms  sqft_living  \\\n",
       "0  7129300520  20141013T000000 221900.00         3       1.00         1180   \n",
       "1  6414100192  20141209T000000 538000.00         3       2.25         2570   \n",
       "2  5631500400  20150225T000000 180000.00         2       1.00          770   \n",
       "3  2487200875  20141209T000000 604000.00         4       3.00         1960   \n",
       "4  1954400510  20150218T000000 510000.00         3       2.00         1680   \n",
       "\n",
       "   sqft_lot  floors  waterfront  view  ...  grade  sqft_above  sqft_basement  \\\n",
       "0      5650    1.00           0     0  ...      7        1180              0   \n",
       "1      7242    2.00           0     0  ...      7        2170            400   \n",
       "2     10000    1.00           0     0  ...      6         770              0   \n",
       "3      5000    1.00           0     0  ...      7        1050            910   \n",
       "4      8080    1.00           0     0  ...      8        1680              0   \n",
       "\n",
       "   yr_built  yr_renovated  zipcode   lat    long  sqft_living15  sqft_lot15  \n",
       "0      1955             0    98178 47.51 -122.26           1340        5650  \n",
       "1      1951          1991    98125 47.72 -122.32           1690        7639  \n",
       "2      1933             0    98028 47.74 -122.23           2720        8062  \n",
       "3      1965             0    98136 47.52 -122.39           1360        5000  \n",
       "4      1987             0    98074 47.62 -122.05           1800        7503  \n",
       "\n",
       "[5 rows x 21 columns]"
      ]
     },
     "execution_count": 5,
     "metadata": {},
     "output_type": "execute_result"
    }
   ],
   "source": [
    "#Imprimindo os 5 primeiros caracteres\n",
    "df.head(n=5)"
   ]
  },
  {
   "cell_type": "code",
   "execution_count": 6,
   "id": "70919670",
   "metadata": {
    "ExecuteTime": {
     "end_time": "2022-01-04T11:33:17.600491Z",
     "start_time": "2022-01-04T11:33:17.574415Z"
    }
   },
   "outputs": [],
   "source": [
    "#Transformando a colunda date no formato de data\n",
    "df['date'] = pd.to_datetime(df['date'], format='%Y-%m-%d')"
   ]
  },
  {
   "cell_type": "markdown",
   "id": "c6001033",
   "metadata": {},
   "source": [
    "### Respondendo as perguntas acerca do dataset"
   ]
  },
  {
   "cell_type": "markdown",
   "id": "eeb11eec",
   "metadata": {},
   "source": [
    "#### 1. Crie uma nova coluna chamada: “house_age” :\n",
    "- Se o valor da  coluna “date” for maior  que 2014-01-01 =>  ‘new_house’\n",
    "- Se o valor da coluna “date” for menorque 2014-01-01 => ‘old_house?"
   ]
  },
  {
   "cell_type": "code",
   "execution_count": 7,
   "id": "3990203e",
   "metadata": {
    "ExecuteTime": {
     "end_time": "2022-01-04T11:33:17.631863Z",
     "start_time": "2022-01-04T11:33:17.603483Z"
    }
   },
   "outputs": [],
   "source": [
    "# Criando a coluna new_house\n",
    "df['house_age'] = ''\n",
    "df.loc[df['date'] > \"2014-01-01\" , 'house_age' ] = 'new_house'\n",
    "df.loc[df['date'] < \"2014-01-01\" , 'house_age' ] = 'old_house'"
   ]
  },
  {
   "cell_type": "markdown",
   "id": "78d7b2de",
   "metadata": {},
   "source": [
    "#### 2. Crie uma nova coluna chamada:“dormitory_type”\n",
    "- Se o valor da coluna “bedrooms” for menor ou igual à 1 => ‘studio’\n",
    "- Se o valor da coluna “bedrooms” for igual a 2 => ‘apartament’\n",
    "- Se o valor da coluna “bedrooms” for maior que 2 => ‘house'\n"
   ]
  },
  {
   "cell_type": "code",
   "execution_count": 8,
   "id": "d1213511",
   "metadata": {
    "ExecuteTime": {
     "end_time": "2022-01-04T11:33:17.663029Z",
     "start_time": "2022-01-04T11:33:17.636216Z"
    }
   },
   "outputs": [],
   "source": [
    "#Criando a coluna dormitory_type\n",
    "df['dormitory_type'] = ''\n",
    "#Criando a classificação\n",
    "df.loc[df['bedrooms'] <= 1 , 'dormitory_type'] = 'studio'\n",
    "df.loc[df['bedrooms'] == 2 , 'dormitory_type'] = 'apartament'\n",
    "df.loc[df['bedrooms'] > 2 , 'dormitory_type'] = 'house'"
   ]
  },
  {
   "cell_type": "markdown",
   "id": "b8fb6142",
   "metadata": {},
   "source": [
    "#### 3. Crie uma nova coluna chamada:“condition_type”\n",
    "- Se o valor da coluna “condition” for menor ou igual à 2 => ‘bad’\n",
    "- Se o valor da coluna “condition” for igual à 3 ou 4 => ‘regular’\n",
    "- Se o valor da coluna “condition” for igual à 5 => ‘good’\n"
   ]
  },
  {
   "cell_type": "code",
   "execution_count": 9,
   "id": "5737cffd",
   "metadata": {
    "ExecuteTime": {
     "end_time": "2022-01-04T11:33:17.678190Z",
     "start_time": "2022-01-04T11:33:17.667029Z"
    }
   },
   "outputs": [],
   "source": [
    "#Criando a coluna dormitory_type\n",
    "df['condition_type'] = ''"
   ]
  },
  {
   "cell_type": "code",
   "execution_count": 10,
   "id": "219a17dc",
   "metadata": {
    "ExecuteTime": {
     "end_time": "2022-01-04T11:33:17.709562Z",
     "start_time": "2022-01-04T11:33:17.682906Z"
    },
    "scrolled": true
   },
   "outputs": [],
   "source": [
    "df['condition_type']  = df['condition'].apply(lambda x :\"bad\"  if  (x <= 2)  else \"regular\" if (x == 3) | (x == 4)  else 'good')"
   ]
  },
  {
   "cell_type": "markdown",
   "id": "97bda3c9",
   "metadata": {},
   "source": [
    "#### 4. Modifique o TIPO aColuna “condition” para STRING\n"
   ]
  },
  {
   "cell_type": "code",
   "execution_count": 11,
   "id": "be59dcf9",
   "metadata": {
    "ExecuteTime": {
     "end_time": "2022-01-04T11:33:17.772332Z",
     "start_time": "2022-01-04T11:33:17.713549Z"
    }
   },
   "outputs": [],
   "source": [
    "# Alterando o tipo dos dados\n",
    "df['condition'] = df['condition'].astype(str )"
   ]
  },
  {
   "cell_type": "markdown",
   "id": "e2a0d444",
   "metadata": {},
   "source": [
    "#### 5. Delete as colunas: “sqft_living15” e “sqft_lot15"
   ]
  },
  {
   "cell_type": "code",
   "execution_count": 12,
   "id": "ff4fa7ff",
   "metadata": {
    "ExecuteTime": {
     "end_time": "2022-01-04T11:33:17.803380Z",
     "start_time": "2022-01-04T11:33:17.781200Z"
    }
   },
   "outputs": [],
   "source": [
    "#Utilizando o comando DROP\n",
    "df.drop('sqft_living15' , axis = 'columns' , inplace = True )"
   ]
  },
  {
   "cell_type": "code",
   "execution_count": 13,
   "id": "fc6c46ae",
   "metadata": {
    "ExecuteTime": {
     "end_time": "2022-01-04T11:33:17.818566Z",
     "start_time": "2022-01-04T11:33:17.807344Z"
    }
   },
   "outputs": [],
   "source": [
    "#Deletando com o comando DEL built-in do python \n",
    "del df['sqft_lot15']"
   ]
  },
  {
   "cell_type": "code",
   "execution_count": 14,
   "id": "fc72a26f",
   "metadata": {
    "ExecuteTime": {
     "end_time": "2022-01-04T11:33:17.833912Z",
     "start_time": "2022-01-04T11:33:17.823276Z"
    }
   },
   "outputs": [
    {
     "data": {
      "text/plain": [
       "Index(['id', 'date', 'price', 'bedrooms', 'bathrooms', 'sqft_living',\n",
       "       'sqft_lot', 'floors', 'waterfront', 'view', 'condition', 'grade',\n",
       "       'sqft_above', 'sqft_basement', 'yr_built', 'yr_renovated', 'zipcode',\n",
       "       'lat', 'long', 'house_age', 'dormitory_type', 'condition_type'],\n",
       "      dtype='object')"
      ]
     },
     "execution_count": 14,
     "metadata": {},
     "output_type": "execute_result"
    }
   ],
   "source": [
    "df.columns"
   ]
  },
  {
   "cell_type": "markdown",
   "id": "707b1f58",
   "metadata": {},
   "source": [
    "#### 6. Modifique o TIPO a Coluna “yr_build” para DATE"
   ]
  },
  {
   "cell_type": "code",
   "execution_count": 15,
   "id": "6196d977",
   "metadata": {
    "ExecuteTime": {
     "end_time": "2022-01-04T11:33:17.865092Z",
     "start_time": "2022-01-04T11:33:17.837888Z"
    }
   },
   "outputs": [],
   "source": [
    "df['yr_built']  = pd.to_datetime(df['yr_built'] , format = '%Y' )"
   ]
  },
  {
   "cell_type": "markdown",
   "id": "0dc1e894",
   "metadata": {},
   "source": [
    "#### 7. Modifique o TIPO a Coluna “yr_renovated” para DATE"
   ]
  },
  {
   "cell_type": "code",
   "execution_count": 16,
   "id": "870167df",
   "metadata": {
    "ExecuteTime": {
     "end_time": "2022-01-04T11:33:22.189520Z",
     "start_time": "2022-01-04T11:33:17.870132Z"
    }
   },
   "outputs": [],
   "source": [
    "df['yr_renovated'] = df['yr_renovated'].apply( lambda x : pd.to_datetime(x , format = '%Y' )  if (x > 0)  else  pd.to_datetime('1970' , format = '%Y' ))"
   ]
  },
  {
   "cell_type": "markdown",
   "id": "95906710",
   "metadata": {},
   "source": [
    "#### 8. Qual a data mais antiga de construção de um imóvel?"
   ]
  },
  {
   "cell_type": "code",
   "execution_count": 17,
   "id": "992417cc",
   "metadata": {
    "ExecuteTime": {
     "end_time": "2022-01-04T11:33:22.205545Z",
     "start_time": "2022-01-04T11:33:22.193229Z"
    }
   },
   "outputs": [
    {
     "name": "stdout",
     "output_type": "stream",
     "text": [
      " A casa mais antiga foi construída no ano 1900.\n"
     ]
    }
   ],
   "source": [
    "date_min = df['yr_built'].min().year\n",
    "print(f\" A casa mais antiga foi construída no ano {date_min}.\")"
   ]
  },
  {
   "cell_type": "markdown",
   "id": "cdd3a052",
   "metadata": {},
   "source": [
    "\n",
    "#### 9. Qual a data mais antiga de renovação de um imóvel?"
   ]
  },
  {
   "cell_type": "code",
   "execution_count": 18,
   "id": "b3f5d37b",
   "metadata": {
    "ExecuteTime": {
     "end_time": "2022-01-04T11:33:22.221226Z",
     "start_time": "2022-01-04T11:33:22.210289Z"
    }
   },
   "outputs": [
    {
     "name": "stdout",
     "output_type": "stream",
     "text": [
      " A casa mais antiga foi construída no ano 1934-01-01 00:00:00.\n"
     ]
    }
   ],
   "source": [
    "#Encontrando a data mínima\n",
    "date_min_renovated = df['yr_renovated'].min()\n",
    "print(f\" A casa mais antiga foi construída no ano {date_min_renovated}.\")"
   ]
  },
  {
   "cell_type": "markdown",
   "id": "69432ead",
   "metadata": {},
   "source": [
    "#### 10. Quantos imóveis tem 2 andares?"
   ]
  },
  {
   "cell_type": "code",
   "execution_count": 19,
   "id": "e1e050fe",
   "metadata": {
    "ExecuteTime": {
     "end_time": "2022-01-04T11:33:22.252227Z",
     "start_time": "2022-01-04T11:33:22.225168Z"
    }
   },
   "outputs": [
    {
     "name": "stdout",
     "output_type": "stream",
     "text": [
      " Existem 8241  imoveis com 2 andares\n"
     ]
    }
   ],
   "source": [
    "print(  f' Existem {df[df[\"floors\"] == 2 ].shape[0]}  imoveis com 2 andares')"
   ]
  },
  {
   "cell_type": "markdown",
   "id": "46f3bcf9",
   "metadata": {},
   "source": [
    "#### 11. Quantos imóveis estão com a condição igual a “regular” ?"
   ]
  },
  {
   "cell_type": "code",
   "execution_count": 20,
   "id": "4949daa2",
   "metadata": {
    "ExecuteTime": {
     "end_time": "2022-01-04T11:33:22.283404Z",
     "start_time": "2022-01-04T11:33:22.257151Z"
    }
   },
   "outputs": [
    {
     "name": "stdout",
     "output_type": "stream",
     "text": [
      " Existem 19710 imóveis regulares\n"
     ]
    }
   ],
   "source": [
    "print(  f' Existem {df[df[\"condition_type\"] == \"regular\" ].shape[0]} imóveis regulares')"
   ]
  },
  {
   "cell_type": "markdown",
   "id": "238ea290",
   "metadata": {},
   "source": [
    "\n",
    "#### 12. Quantos imóveis estão com a condição igual a “bad”e possuem“vista para água” ?"
   ]
  },
  {
   "cell_type": "code",
   "execution_count": 21,
   "id": "e9764a1c",
   "metadata": {
    "ExecuteTime": {
     "end_time": "2022-01-04T11:33:22.314915Z",
     "start_time": "2022-01-04T11:33:22.287935Z"
    }
   },
   "outputs": [
    {
     "name": "stdout",
     "output_type": "stream",
     "text": [
      " Existem 2 imóveis com condição \"bad\" e com vista para o mar\n"
     ]
    }
   ],
   "source": [
    "\n",
    "print(  f' Existem {df[(df[\"condition_type\"] == \"bad\") & (df[\"waterfront\"] == 1)].shape[0]} imóveis com condição \"bad\" e com vista para o mar')"
   ]
  },
  {
   "cell_type": "markdown",
   "id": "b39cea32",
   "metadata": {},
   "source": [
    "#### 13. Quantos imóveis estão com a condição igual a “good” e são “new_house”?"
   ]
  },
  {
   "cell_type": "code",
   "execution_count": 22,
   "id": "f74a6eec",
   "metadata": {
    "ExecuteTime": {
     "end_time": "2022-01-04T11:33:22.344909Z",
     "start_time": "2022-01-04T11:33:22.319962Z"
    }
   },
   "outputs": [
    {
     "name": "stdout",
     "output_type": "stream",
     "text": [
      " Existem 1701 imóveis com condição \"bad\" e com vista para o mar\n"
     ]
    }
   ],
   "source": [
    "\n",
    "print(  f' Existem {df[(df[\"condition_type\"] == \"good\") & (df[\"house_age\"] == \"new_house\")].shape[0]} imóveis com condição \"bad\" e com vista para o mar')"
   ]
  },
  {
   "cell_type": "markdown",
   "id": "f708c5f4",
   "metadata": {},
   "source": [
    "#### 14. Qual o valor do imóvel mais caro do tipo “studio” ?"
   ]
  },
  {
   "cell_type": "code",
   "execution_count": 23,
   "id": "92af51a8",
   "metadata": {
    "ExecuteTime": {
     "end_time": "2022-01-04T11:33:22.376445Z",
     "start_time": "2022-01-04T11:33:22.352455Z"
    }
   },
   "outputs": [],
   "source": [
    "house_studio_max = df.loc[df['dormitory_type'] == 'studio' ][\"price\"].max()"
   ]
  },
  {
   "cell_type": "code",
   "execution_count": 24,
   "id": "bfdbeb22",
   "metadata": {
    "ExecuteTime": {
     "end_time": "2022-01-04T11:33:22.392479Z",
     "start_time": "2022-01-04T11:33:22.381515Z"
    }
   },
   "outputs": [
    {
     "name": "stdout",
     "output_type": "stream",
     "text": [
      "O imóvel mais caro do tipo \"Studio\" é $1295650.0\n"
     ]
    }
   ],
   "source": [
    "print(f'O imóvel mais caro do tipo \"Studio\" é ${house_studio_max}')"
   ]
  },
  {
   "cell_type": "markdown",
   "id": "f638d2c5",
   "metadata": {},
   "source": [
    "#### 15. Quantos imóveis do tipo “apartment” foram reformados em 2015 ?\n"
   ]
  },
  {
   "cell_type": "code",
   "execution_count": 25,
   "id": "c604cac8",
   "metadata": {
    "ExecuteTime": {
     "end_time": "2022-01-04T11:33:22.423878Z",
     "start_time": "2022-01-04T11:33:22.399026Z"
    }
   },
   "outputs": [
    {
     "name": "stdout",
     "output_type": "stream",
     "text": [
      "O número de apartmente reformados em 2015 é 0\n"
     ]
    }
   ],
   "source": [
    "house_refor_2015 = df[(df['dormitory_type'] == \"apartment\") & (df['yr_renovated'] == 2015)].shape[0]\n",
    "\n",
    "print(f'O número de apartmente reformados em 2015 é {house_refor_2015}')"
   ]
  },
  {
   "cell_type": "markdown",
   "id": "b9a3ff87",
   "metadata": {},
   "source": [
    "#### 16. Qual o maior número de quartos que um imóveis do tipo “house” possui ?"
   ]
  },
  {
   "cell_type": "code",
   "execution_count": 26,
   "id": "2e71c54a",
   "metadata": {
    "ExecuteTime": {
     "end_time": "2022-01-04T11:33:22.455159Z",
     "start_time": "2022-01-04T11:33:22.429885Z"
    }
   },
   "outputs": [
    {
     "name": "stdout",
     "output_type": "stream",
     "text": [
      "O número máximo de quartos em imóveis do tipo house é 33\n"
     ]
    }
   ],
   "source": [
    "bedrooms_max = df.loc[df['dormitory_type'] == \"house\" , 'bedrooms'].max()\n",
    "print(f'O número máximo de quartos em imóveis do tipo house é {bedrooms_max}')"
   ]
  },
  {
   "cell_type": "markdown",
   "id": "6153d103",
   "metadata": {},
   "source": [
    "#### 17. Quantos imóveis “new_house” foram reformados no ano de 2014?"
   ]
  },
  {
   "cell_type": "code",
   "execution_count": 27,
   "id": "a84f6c61",
   "metadata": {
    "ExecuteTime": {
     "end_time": "2022-01-04T11:33:22.501148Z",
     "start_time": "2022-01-04T11:33:22.459028Z"
    }
   },
   "outputs": [
    {
     "name": "stdout",
     "output_type": "stream",
     "text": [
      "O número de imóveis new_house reformados em 2014 é 91\n"
     ]
    }
   ],
   "source": [
    "renovated_2014 = df.query(\" house_age == 'new_house' and yr_renovated == 2014\").shape[0]\n",
    "print(f'O número de imóveis new_house reformados em 2014 é {renovated_2014}')"
   ]
  },
  {
   "cell_type": "markdown",
   "id": "043c7dbb",
   "metadata": {},
   "source": [
    "#### 18. Selecione as colunas: “id”, “date”, “price”, “floors”, “zipcode” pelo método:\n",
    "-- Direto pelo nome das colunas\n",
    "\n",
    "-- Pelos índices\n",
    "\n",
    "-- Pelos índices das linhas e o nome das colunas\n"
   ]
  },
  {
   "cell_type": "code",
   "execution_count": 28,
   "id": "a271e460",
   "metadata": {
    "ExecuteTime": {
     "end_time": "2022-01-04T11:33:22.532028Z",
     "start_time": "2022-01-04T11:33:22.505356Z"
    }
   },
   "outputs": [
    {
     "data": {
      "text/plain": [
       "Index(['id', 'date', 'price', 'bedrooms', 'bathrooms', 'sqft_living',\n",
       "       'sqft_lot', 'floors', 'waterfront', 'view', 'condition', 'grade',\n",
       "       'sqft_above', 'sqft_basement', 'yr_built', 'yr_renovated', 'zipcode',\n",
       "       'lat', 'long', 'house_age', 'dormitory_type', 'condition_type'],\n",
       "      dtype='object')"
      ]
     },
     "execution_count": 28,
     "metadata": {},
     "output_type": "execute_result"
    }
   ],
   "source": [
    "df.columns"
   ]
  },
  {
   "cell_type": "code",
   "execution_count": 29,
   "id": "1e2a622b",
   "metadata": {
    "ExecuteTime": {
     "end_time": "2022-01-04T11:33:22.577801Z",
     "start_time": "2022-01-04T11:33:22.536612Z"
    }
   },
   "outputs": [
    {
     "data": {
      "text/html": [
       "<div>\n",
       "<style scoped>\n",
       "    .dataframe tbody tr th:only-of-type {\n",
       "        vertical-align: middle;\n",
       "    }\n",
       "\n",
       "    .dataframe tbody tr th {\n",
       "        vertical-align: top;\n",
       "    }\n",
       "\n",
       "    .dataframe thead th {\n",
       "        text-align: right;\n",
       "    }\n",
       "</style>\n",
       "<table border=\"1\" class=\"dataframe\">\n",
       "  <thead>\n",
       "    <tr style=\"text-align: right;\">\n",
       "      <th></th>\n",
       "      <th>id</th>\n",
       "      <th>date</th>\n",
       "      <th>price</th>\n",
       "      <th>floors</th>\n",
       "      <th>zipcode</th>\n",
       "    </tr>\n",
       "  </thead>\n",
       "  <tbody>\n",
       "    <tr>\n",
       "      <th>0</th>\n",
       "      <td>7129300520</td>\n",
       "      <td>2014-10-13</td>\n",
       "      <td>221900.00</td>\n",
       "      <td>1.00</td>\n",
       "      <td>98178</td>\n",
       "    </tr>\n",
       "    <tr>\n",
       "      <th>1</th>\n",
       "      <td>6414100192</td>\n",
       "      <td>2014-12-09</td>\n",
       "      <td>538000.00</td>\n",
       "      <td>2.00</td>\n",
       "      <td>98125</td>\n",
       "    </tr>\n",
       "    <tr>\n",
       "      <th>2</th>\n",
       "      <td>5631500400</td>\n",
       "      <td>2015-02-25</td>\n",
       "      <td>180000.00</td>\n",
       "      <td>1.00</td>\n",
       "      <td>98028</td>\n",
       "    </tr>\n",
       "    <tr>\n",
       "      <th>3</th>\n",
       "      <td>2487200875</td>\n",
       "      <td>2014-12-09</td>\n",
       "      <td>604000.00</td>\n",
       "      <td>1.00</td>\n",
       "      <td>98136</td>\n",
       "    </tr>\n",
       "    <tr>\n",
       "      <th>4</th>\n",
       "      <td>1954400510</td>\n",
       "      <td>2015-02-18</td>\n",
       "      <td>510000.00</td>\n",
       "      <td>1.00</td>\n",
       "      <td>98074</td>\n",
       "    </tr>\n",
       "  </tbody>\n",
       "</table>\n",
       "</div>"
      ],
      "text/plain": [
       "           id       date     price  floors  zipcode\n",
       "0  7129300520 2014-10-13 221900.00    1.00    98178\n",
       "1  6414100192 2014-12-09 538000.00    2.00    98125\n",
       "2  5631500400 2015-02-25 180000.00    1.00    98028\n",
       "3  2487200875 2014-12-09 604000.00    1.00    98136\n",
       "4  1954400510 2015-02-18 510000.00    1.00    98074"
      ]
     },
     "execution_count": 29,
     "metadata": {},
     "output_type": "execute_result"
    }
   ],
   "source": [
    "#Direto pelo nome \n",
    "df[['id', 'date', 'price', 'floors', 'zipcode']].head(5)"
   ]
  },
  {
   "cell_type": "code",
   "execution_count": 30,
   "id": "e274c7bb",
   "metadata": {
    "ExecuteTime": {
     "end_time": "2022-01-04T11:33:22.624638Z",
     "start_time": "2022-01-04T11:33:22.594072Z"
    }
   },
   "outputs": [
    {
     "data": {
      "text/html": [
       "<div>\n",
       "<style scoped>\n",
       "    .dataframe tbody tr th:only-of-type {\n",
       "        vertical-align: middle;\n",
       "    }\n",
       "\n",
       "    .dataframe tbody tr th {\n",
       "        vertical-align: top;\n",
       "    }\n",
       "\n",
       "    .dataframe thead th {\n",
       "        text-align: right;\n",
       "    }\n",
       "</style>\n",
       "<table border=\"1\" class=\"dataframe\">\n",
       "  <thead>\n",
       "    <tr style=\"text-align: right;\">\n",
       "      <th></th>\n",
       "      <th>id</th>\n",
       "      <th>date</th>\n",
       "      <th>price</th>\n",
       "      <th>floors</th>\n",
       "      <th>zipcode</th>\n",
       "    </tr>\n",
       "  </thead>\n",
       "  <tbody>\n",
       "    <tr>\n",
       "      <th>0</th>\n",
       "      <td>7129300520</td>\n",
       "      <td>2014-10-13</td>\n",
       "      <td>221900.00</td>\n",
       "      <td>1.00</td>\n",
       "      <td>98178</td>\n",
       "    </tr>\n",
       "    <tr>\n",
       "      <th>1</th>\n",
       "      <td>6414100192</td>\n",
       "      <td>2014-12-09</td>\n",
       "      <td>538000.00</td>\n",
       "      <td>2.00</td>\n",
       "      <td>98125</td>\n",
       "    </tr>\n",
       "    <tr>\n",
       "      <th>2</th>\n",
       "      <td>5631500400</td>\n",
       "      <td>2015-02-25</td>\n",
       "      <td>180000.00</td>\n",
       "      <td>1.00</td>\n",
       "      <td>98028</td>\n",
       "    </tr>\n",
       "    <tr>\n",
       "      <th>3</th>\n",
       "      <td>2487200875</td>\n",
       "      <td>2014-12-09</td>\n",
       "      <td>604000.00</td>\n",
       "      <td>1.00</td>\n",
       "      <td>98136</td>\n",
       "    </tr>\n",
       "    <tr>\n",
       "      <th>4</th>\n",
       "      <td>1954400510</td>\n",
       "      <td>2015-02-18</td>\n",
       "      <td>510000.00</td>\n",
       "      <td>1.00</td>\n",
       "      <td>98074</td>\n",
       "    </tr>\n",
       "  </tbody>\n",
       "</table>\n",
       "</div>"
      ],
      "text/plain": [
       "           id       date     price  floors  zipcode\n",
       "0  7129300520 2014-10-13 221900.00    1.00    98178\n",
       "1  6414100192 2014-12-09 538000.00    2.00    98125\n",
       "2  5631500400 2015-02-25 180000.00    1.00    98028\n",
       "3  2487200875 2014-12-09 604000.00    1.00    98136\n",
       "4  1954400510 2015-02-18 510000.00    1.00    98074"
      ]
     },
     "execution_count": 30,
     "metadata": {},
     "output_type": "execute_result"
    }
   ],
   "source": [
    "#Pelo índices\n",
    "df.iloc[:5, [0,1,2,7, 16]]"
   ]
  },
  {
   "cell_type": "code",
   "execution_count": 31,
   "id": "ceae48f1",
   "metadata": {
    "ExecuteTime": {
     "end_time": "2022-01-04T11:33:22.656243Z",
     "start_time": "2022-01-04T11:33:22.630299Z"
    }
   },
   "outputs": [
    {
     "data": {
      "text/html": [
       "<div>\n",
       "<style scoped>\n",
       "    .dataframe tbody tr th:only-of-type {\n",
       "        vertical-align: middle;\n",
       "    }\n",
       "\n",
       "    .dataframe tbody tr th {\n",
       "        vertical-align: top;\n",
       "    }\n",
       "\n",
       "    .dataframe thead th {\n",
       "        text-align: right;\n",
       "    }\n",
       "</style>\n",
       "<table border=\"1\" class=\"dataframe\">\n",
       "  <thead>\n",
       "    <tr style=\"text-align: right;\">\n",
       "      <th></th>\n",
       "      <th>id</th>\n",
       "      <th>date</th>\n",
       "      <th>price</th>\n",
       "      <th>floors</th>\n",
       "      <th>zipcode</th>\n",
       "    </tr>\n",
       "  </thead>\n",
       "  <tbody>\n",
       "    <tr>\n",
       "      <th>0</th>\n",
       "      <td>7129300520</td>\n",
       "      <td>2014-10-13</td>\n",
       "      <td>221900.00</td>\n",
       "      <td>1.00</td>\n",
       "      <td>98178</td>\n",
       "    </tr>\n",
       "    <tr>\n",
       "      <th>1</th>\n",
       "      <td>6414100192</td>\n",
       "      <td>2014-12-09</td>\n",
       "      <td>538000.00</td>\n",
       "      <td>2.00</td>\n",
       "      <td>98125</td>\n",
       "    </tr>\n",
       "    <tr>\n",
       "      <th>2</th>\n",
       "      <td>5631500400</td>\n",
       "      <td>2015-02-25</td>\n",
       "      <td>180000.00</td>\n",
       "      <td>1.00</td>\n",
       "      <td>98028</td>\n",
       "    </tr>\n",
       "    <tr>\n",
       "      <th>3</th>\n",
       "      <td>2487200875</td>\n",
       "      <td>2014-12-09</td>\n",
       "      <td>604000.00</td>\n",
       "      <td>1.00</td>\n",
       "      <td>98136</td>\n",
       "    </tr>\n",
       "    <tr>\n",
       "      <th>4</th>\n",
       "      <td>1954400510</td>\n",
       "      <td>2015-02-18</td>\n",
       "      <td>510000.00</td>\n",
       "      <td>1.00</td>\n",
       "      <td>98074</td>\n",
       "    </tr>\n",
       "    <tr>\n",
       "      <th>5</th>\n",
       "      <td>7237550310</td>\n",
       "      <td>2014-05-12</td>\n",
       "      <td>1225000.00</td>\n",
       "      <td>1.00</td>\n",
       "      <td>98053</td>\n",
       "    </tr>\n",
       "  </tbody>\n",
       "</table>\n",
       "</div>"
      ],
      "text/plain": [
       "           id       date      price  floors  zipcode\n",
       "0  7129300520 2014-10-13  221900.00    1.00    98178\n",
       "1  6414100192 2014-12-09  538000.00    2.00    98125\n",
       "2  5631500400 2015-02-25  180000.00    1.00    98028\n",
       "3  2487200875 2014-12-09  604000.00    1.00    98136\n",
       "4  1954400510 2015-02-18  510000.00    1.00    98074\n",
       "5  7237550310 2014-05-12 1225000.00    1.00    98053"
      ]
     },
     "execution_count": 31,
     "metadata": {},
     "output_type": "execute_result"
    }
   ],
   "source": [
    "#Pelos índices das linhas e o nome das colunas\n",
    "df.loc[:5, ['id', 'date', 'price', 'floors', 'zipcode']]"
   ]
  },
  {
   "cell_type": "markdown",
   "id": "cd01bed3",
   "metadata": {},
   "source": [
    "#### 19. Salve um arquivo .csv com somente as colunas do item 10 ao 17."
   ]
  },
  {
   "cell_type": "code",
   "execution_count": 32,
   "id": "5acd0428",
   "metadata": {
    "ExecuteTime": {
     "end_time": "2022-01-04T11:33:22.749851Z",
     "start_time": "2022-01-04T11:33:22.660229Z"
    }
   },
   "outputs": [],
   "source": [
    "df.to_csv( 'exercicio_aula02.csv' , columns = ['house_age', 'dormitory_type', 'condition_type'] , index = False)"
   ]
  },
  {
   "cell_type": "markdown",
   "id": "7c8d2bee",
   "metadata": {},
   "source": [
    "#### 20. Modifique a cor dos pontos no mapa de “pink” para “verde-escuro”"
   ]
  },
  {
   "cell_type": "code",
   "execution_count": 33,
   "id": "0ad98fc5",
   "metadata": {
    "ExecuteTime": {
     "end_time": "2022-01-04T11:33:22.765794Z",
     "start_time": "2022-01-04T11:33:22.753839Z"
    }
   },
   "outputs": [],
   "source": [
    "#Definindo o dataframe que será utilizado para constração do mapa \n",
    "df_map = df[['id','price', 'lat', 'long']]"
   ]
  },
  {
   "cell_type": "code",
   "execution_count": 36,
   "id": "06aa735f",
   "metadata": {
    "ExecuteTime": {
     "end_time": "2022-01-04T11:33:44.747491Z",
     "start_time": "2022-01-04T11:33:44.729115Z"
    }
   },
   "outputs": [
    {
     "ename": "AttributeError",
     "evalue": "module 'plotly.express' has no attribute 'offline'",
     "output_type": "error",
     "traceback": [
      "\u001b[1;31m---------------------------------------------------------------------------\u001b[0m",
      "\u001b[1;31mAttributeError\u001b[0m                            Traceback (most recent call last)",
      "\u001b[1;32m~\\AppData\\Local\\Temp/ipykernel_14456/1480579677.py\u001b[0m in \u001b[0;36m<module>\u001b[1;34m\u001b[0m\n\u001b[1;32m----> 1\u001b[1;33m \u001b[0mplotly\u001b[0m\u001b[1;33m.\u001b[0m\u001b[0moffline\u001b[0m\u001b[1;33m.\u001b[0m\u001b[0mplot\u001b[0m\u001b[1;33m(\u001b[0m\u001b[0mmapa\u001b[0m\u001b[1;33m,\u001b[0m \u001b[0mfilename\u001b[0m\u001b[1;33m=\u001b[0m\u001b[1;34m'file.html'\u001b[0m\u001b[1;33m)\u001b[0m\u001b[1;33m\u001b[0m\u001b[1;33m\u001b[0m\u001b[0m\n\u001b[0m",
      "\u001b[1;31mAttributeError\u001b[0m: module 'plotly.express' has no attribute 'offline'"
     ]
    }
   ],
   "source": [
    "plotly.offline.plot(mapa, filename='file.html')"
   ]
  },
  {
   "cell_type": "code",
   "execution_count": null,
   "id": "a303a3cf",
   "metadata": {
    "ExecuteTime": {
     "end_time": "2022-01-04T11:33:22.802585Z",
     "start_time": "2022-01-04T11:33:22.802585Z"
    }
   },
   "outputs": [],
   "source": [
    "mapa = px.scatter_mapbox( data_frame= df_map , lat = 'lat', \n",
    "                  lon = 'long' , zoom = 3  , hover_data= ['price'] , hover_name= 'id' ,\n",
    "                  height= 300 , color_discrete_sequence= ['green']) \n",
    "mapa.update_layout(mapbox_style = 'open-street-map')\n",
    "mapa.update_layout(height = 600 , margin = {'r' : 0 , 't':0 , 'l':0 , 'b':0})\n",
    "mapa.show()"
   ]
  },
  {
   "cell_type": "code",
   "execution_count": null,
   "id": "d210e266",
   "metadata": {
    "ExecuteTime": {
     "end_time": "2021-12-30T00:02:43.579348Z",
     "start_time": "2021-12-30T00:02:40.569369Z"
    }
   },
   "outputs": [],
   "source": []
  },
  {
   "cell_type": "code",
   "execution_count": null,
   "id": "8bdbe100",
   "metadata": {
    "ExecuteTime": {
     "end_time": "2021-12-30T00:02:57.087231Z",
     "start_time": "2021-12-30T00:02:57.064980Z"
    }
   },
   "outputs": [],
   "source": []
  },
  {
   "cell_type": "code",
   "execution_count": null,
   "id": "1f20e8d3",
   "metadata": {},
   "outputs": [],
   "source": []
  }
 ],
 "metadata": {
  "kernelspec": {
   "display_name": "Python 3 (ipykernel)",
   "language": "python",
   "name": "python3"
  },
  "language_info": {
   "codemirror_mode": {
    "name": "ipython",
    "version": 3
   },
   "file_extension": ".py",
   "mimetype": "text/x-python",
   "name": "python",
   "nbconvert_exporter": "python",
   "pygments_lexer": "ipython3",
   "version": "3.9.7"
  },
  "varInspector": {
   "cols": {
    "lenName": 16,
    "lenType": 16,
    "lenVar": 40
   },
   "kernels_config": {
    "python": {
     "delete_cmd_postfix": "",
     "delete_cmd_prefix": "del ",
     "library": "var_list.py",
     "varRefreshCmd": "print(var_dic_list())"
    },
    "r": {
     "delete_cmd_postfix": ") ",
     "delete_cmd_prefix": "rm(",
     "library": "var_list.r",
     "varRefreshCmd": "cat(var_dic_list()) "
    }
   },
   "types_to_exclude": [
    "module",
    "function",
    "builtin_function_or_method",
    "instance",
    "_Feature"
   ],
   "window_display": false
  }
 },
 "nbformat": 4,
 "nbformat_minor": 5
}
