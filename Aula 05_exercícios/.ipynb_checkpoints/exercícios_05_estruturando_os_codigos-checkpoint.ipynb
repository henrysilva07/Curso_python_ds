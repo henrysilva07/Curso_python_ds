{
 "cells": [
  {
   "cell_type": "markdown",
   "id": "2f9ce1d9",
   "metadata": {},
   "source": [
    "# Bibliotecas"
   ]
  },
  {
   "cell_type": "code",
   "execution_count": 1,
   "id": "94c986e1",
   "metadata": {
    "ExecuteTime": {
     "end_time": "2022-01-07T00:26:54.599570Z",
     "start_time": "2022-01-07T00:26:53.114751Z"
    }
   },
   "outputs": [],
   "source": [
    "import pandas as pd \n",
    "from geopy.geocoders import Nominatim #Biblioteca para buscar a localização"
   ]
  },
  {
   "cell_type": "markdown",
   "id": "c618446a",
   "metadata": {},
   "source": [
    "# Extração"
   ]
  },
  {
   "cell_type": "code",
   "execution_count": null,
   "id": "b8021693",
   "metadata": {},
   "outputs": [],
   "source": []
  },
  {
   "cell_type": "code",
   "execution_count": null,
   "id": "83f9a106",
   "metadata": {},
   "outputs": [],
   "source": []
  },
  {
   "cell_type": "markdown",
   "id": "8e74384b",
   "metadata": {
    "ExecuteTime": {
     "end_time": "2022-01-08T17:28:47.985964Z",
     "start_time": "2022-01-08T17:28:47.976042Z"
    }
   },
   "source": [
    "# Transformação"
   ]
  },
  {
   "cell_type": "code",
   "execution_count": null,
   "id": "bf5e0e7b",
   "metadata": {},
   "outputs": [],
   "source": []
  },
  {
   "cell_type": "code",
   "execution_count": null,
   "id": "04303e80",
   "metadata": {},
   "outputs": [],
   "source": []
  },
  {
   "cell_type": "markdown",
   "id": "db93ea81",
   "metadata": {
    "ExecuteTime": {
     "end_time": "2022-01-08T17:28:51.865325Z",
     "start_time": "2022-01-08T17:28:51.853934Z"
    }
   },
   "source": [
    "# Carga"
   ]
  },
  {
   "cell_type": "code",
   "execution_count": null,
   "id": "ef098c0e",
   "metadata": {},
   "outputs": [],
   "source": []
  },
  {
   "cell_type": "code",
   "execution_count": null,
   "id": "1b676d7a",
   "metadata": {},
   "outputs": [],
   "source": []
  },
  {
   "cell_type": "code",
   "execution_count": null,
   "id": "477774ea",
   "metadata": {},
   "outputs": [],
   "source": []
  }
 ],
 "metadata": {
  "kernelspec": {
   "display_name": "Python 3 (ipykernel)",
   "language": "python",
   "name": "python3"
  },
  "language_info": {
   "codemirror_mode": {
    "name": "ipython",
    "version": 3
   },
   "file_extension": ".py",
   "mimetype": "text/x-python",
   "name": "python",
   "nbconvert_exporter": "python",
   "pygments_lexer": "ipython3",
   "version": "3.9.7"
  },
  "varInspector": {
   "cols": {
    "lenName": 16,
    "lenType": 16,
    "lenVar": 40
   },
   "kernels_config": {
    "python": {
     "delete_cmd_postfix": "",
     "delete_cmd_prefix": "del ",
     "library": "var_list.py",
     "varRefreshCmd": "print(var_dic_list())"
    },
    "r": {
     "delete_cmd_postfix": ") ",
     "delete_cmd_prefix": "rm(",
     "library": "var_list.r",
     "varRefreshCmd": "cat(var_dic_list()) "
    }
   },
   "types_to_exclude": [
    "module",
    "function",
    "builtin_function_or_method",
    "instance",
    "_Feature"
   ],
   "window_display": false
  }
 },
 "nbformat": 4,
 "nbformat_minor": 5
}
