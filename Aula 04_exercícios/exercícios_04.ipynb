{
 "cells": [
  {
   "cell_type": "code",
   "execution_count": 45,
   "id": "94c986e1",
   "metadata": {
    "ExecuteTime": {
     "end_time": "2022-01-06T01:50:45.000124Z",
     "start_time": "2022-01-06T01:50:44.986597Z"
    }
   },
   "outputs": [],
   "source": [
    "import pandas as pd \n",
    "from geopy.geocoders import Nominatim #Biblioteca para buscar a localização"
   ]
  },
  {
   "cell_type": "code",
   "execution_count": 46,
   "id": "72968b51",
   "metadata": {
    "ExecuteTime": {
     "end_time": "2022-01-06T01:50:45.096288Z",
     "start_time": "2022-01-06T01:50:45.000124Z"
    }
   },
   "outputs": [],
   "source": [
    "df = pd.read_csv(r'C:\\Users\\henry\\repositorios_ds\\Curso_python_ds\\dataset\\kc_house_data.csv')"
   ]
  },
  {
   "cell_type": "markdown",
   "id": "ab1326fe",
   "metadata": {},
   "source": [
    "### 1. Qual a quantidade de imóveis por nível?\n",
    " - Nivel 0: Preço entre  0.00 e  321.950\n",
    " - Nivel 1: Preço entre  321.950 e  450.000\n",
    " - Nivel 2: Preço entre  450.000 e  645.000\n",
    " - Nivel 3: Preço acima de  645.000"
   ]
  },
  {
   "cell_type": "code",
   "execution_count": 47,
   "id": "efcd3f09",
   "metadata": {
    "ExecuteTime": {
     "end_time": "2022-01-06T01:50:45.129239Z",
     "start_time": "2022-01-06T01:50:45.096288Z"
    }
   },
   "outputs": [],
   "source": [
    "#Criando a coluna nivel \n",
    "\n",
    "df['nivel'] = df['price'].apply( lambda x :  0  if ( x >= 0 ) & (x  < 321950 ) else \n",
    "                                             1  if ( x >=  321950  ) & (x  < 450000 ) else \n",
    "                                             2  if ( x >= 450000 ) & (x  < 645000 ) else \n",
    "                                             3 )\n",
    "\n",
    "\n",
    "df['nivel'] = df['nivel'].astype(int)"
   ]
  },
  {
   "cell_type": "markdown",
   "id": "067631ab",
   "metadata": {},
   "source": [
    "# 2. Qual a média do tamanho da sala de estar dos imóveis por “Size” ?\n",
    "- Size 0 -> Tamanho entre 0 e 1427 sqft\n",
    "- Size 1 -> Tamanho entre 1427 e1910 sqft\n",
    "- Size 2 -> Tamanho entre 1910 e 2550 sqft\n",
    "- Size 3 -> Tamanho acima de 2550 sqft"
   ]
  },
  {
   "cell_type": "code",
   "execution_count": 48,
   "id": "53ab38fe",
   "metadata": {
    "ExecuteTime": {
     "end_time": "2022-01-06T01:50:45.145136Z",
     "start_time": "2022-01-06T01:50:45.129239Z"
    }
   },
   "outputs": [],
   "source": [
    "df['size'] = df['sqft_living'].apply( lambda x : \"Size 0\" if ( x < 1427)    else\n",
    "                                                 \"Size 1\" if ( x >= 1427) & ( x < 1910) else\n",
    "                                                 \"Size 2\" if ( x >= 1910) & (x < 2550) else \n",
    "                                                 \"Size 3\"  )"
   ]
  },
  {
   "cell_type": "code",
   "execution_count": 49,
   "id": "8e872039",
   "metadata": {
    "ExecuteTime": {
     "end_time": "2022-01-06T01:50:45.176868Z",
     "start_time": "2022-01-06T01:50:45.145136Z"
    }
   },
   "outputs": [
    {
     "data": {
      "text/html": [
       "<div>\n",
       "<style scoped>\n",
       "    .dataframe tbody tr th:only-of-type {\n",
       "        vertical-align: middle;\n",
       "    }\n",
       "\n",
       "    .dataframe tbody tr th {\n",
       "        vertical-align: top;\n",
       "    }\n",
       "\n",
       "    .dataframe thead th {\n",
       "        text-align: right;\n",
       "    }\n",
       "</style>\n",
       "<table border=\"1\" class=\"dataframe\">\n",
       "  <thead>\n",
       "    <tr style=\"text-align: right;\">\n",
       "      <th></th>\n",
       "      <th>size</th>\n",
       "      <th>sqft_living</th>\n",
       "    </tr>\n",
       "  </thead>\n",
       "  <tbody>\n",
       "    <tr>\n",
       "      <th>0</th>\n",
       "      <td>Size 0</td>\n",
       "      <td>1123.776421</td>\n",
       "    </tr>\n",
       "    <tr>\n",
       "      <th>1</th>\n",
       "      <td>Size 1</td>\n",
       "      <td>1661.198088</td>\n",
       "    </tr>\n",
       "    <tr>\n",
       "      <th>2</th>\n",
       "      <td>Size 2</td>\n",
       "      <td>2202.700239</td>\n",
       "    </tr>\n",
       "    <tr>\n",
       "      <th>3</th>\n",
       "      <td>Size 3</td>\n",
       "      <td>3318.988404</td>\n",
       "    </tr>\n",
       "  </tbody>\n",
       "</table>\n",
       "</div>"
      ],
      "text/plain": [
       "     size  sqft_living\n",
       "0  Size 0  1123.776421\n",
       "1  Size 1  1661.198088\n",
       "2  Size 2  2202.700239\n",
       "3  Size 3  3318.988404"
      ]
     },
     "execution_count": 49,
     "metadata": {},
     "output_type": "execute_result"
    }
   ],
   "source": [
    "# Calculando a média\n",
    "df[['size','sqft_living']].groupby('size').mean().reset_index()\n"
   ]
  },
  {
   "cell_type": "markdown",
   "id": "b8bd26b1",
   "metadata": {},
   "source": [
    "# 3. Adicione as seguinte informações ao conjunto de dados original: \n",
    "- Place ID: Identificação da\n",
    "localização\n",
    "- OSM Type: Open Street Map type\n",
    "- Country: Nome do País\n",
    "- Country Code: Código do País"
   ]
  },
  {
   "cell_type": "code",
   "execution_count": 60,
   "id": "58e0f0d3",
   "metadata": {
    "ExecuteTime": {
     "end_time": "2022-01-06T01:54:25.817837Z",
     "start_time": "2022-01-06T01:54:19.621286Z"
    }
   },
   "outputs": [
    {
     "name": "stdout",
     "output_type": "stream",
     "text": [
      "Loop 1/11\n",
      "Loop 2/11\n",
      "Loop 3/11\n",
      "Loop 4/11\n",
      "Loop 5/11\n",
      "Loop 6/11\n",
      "Loop 7/11\n",
      "Loop 8/11\n",
      "Loop 9/11\n",
      "Loop 10/11\n",
      "Loop 11/11\n"
     ]
    }
   ],
   "source": [
    "# inicializando api\n",
    "geolocator = Nominatim( user_agent='geoapiExercises' )\n",
    "\n",
    "df_copia = df.loc[ :10 , : ].copy()\n",
    "\n",
    "df_copia['Place ID'] = 'NA'\n",
    "df_copia['OSM TYPE'] = 'NA'\n",
    "df_copia['Country'] = 'NA'\n",
    "df_copia['Country Code'] = 'NA'\n",
    "\n",
    "\n",
    "for i in range (len(df_copia)):\n",
    "    \n",
    "    print(f\"Loop {i + 1 }/{len(df_copia)}\")\n",
    "    query = str(df_copia.loc[i, 'lat']) + ',' + str(df_copia.loc[i,'long'])\n",
    "\n",
    "    response = geolocator.reverse( query )\n",
    "    \n",
    "    if 'place_id' in response.raw:\n",
    "        df_copia.loc[i , 'Place ID'] = response.raw['place_id']\n",
    "    if 'osm_type' in response.raw:\n",
    "        df_copia.loc[i , 'OSM TYPE'] = response.raw['osm_type']\n",
    "    if 'country' in response.raw['address']:\n",
    "        df_copia.loc[i , 'Country'] = response.raw['address']['country']\n",
    "    if 'country_code' in response.raw['address']:\n",
    "        df_copia.loc[i , 'Country Code'] = response.raw['address']['country_code']\n",
    "    \n",
    "    "
   ]
  },
  {
   "cell_type": "markdown",
   "id": "c983fcff",
   "metadata": {},
   "source": [
    "# Adicionando filtros interativos - exemplo"
   ]
  },
  {
   "cell_type": "code",
   "execution_count": 61,
   "id": "3aca7c61",
   "metadata": {
    "ExecuteTime": {
     "end_time": "2022-01-06T01:56:07.636295Z",
     "start_time": "2022-01-06T01:56:07.516222Z"
    }
   },
   "outputs": [],
   "source": [
    "import ipywidgets as widgets\n",
    "from ipywidgets import fixed"
   ]
  },
  {
   "cell_type": "code",
   "execution_count": 62,
   "id": "aa20ea7f",
   "metadata": {
    "ExecuteTime": {
     "end_time": "2022-01-06T01:56:51.994459Z",
     "start_time": "2022-01-06T01:56:51.970516Z"
    }
   },
   "outputs": [],
   "source": [
    "style = {'description_width': 'initial'}\n",
    "# Iterative buttons\n",
    "price_limit = widgets.IntSlider(\n",
    "value = 540000,\n",
    "min = 75000,\n",
    "max = 77000000,\n",
    "step = 1,\n",
    "description='Maximun Price',disable=False,\n",
    "style = style\n",
    ")"
   ]
  },
  {
   "cell_type": "code",
   "execution_count": 63,
   "id": "848abbef",
   "metadata": {
    "ExecuteTime": {
     "end_time": "2022-01-06T01:56:59.471360Z",
     "start_time": "2022-01-06T01:56:59.437239Z"
    }
   },
   "outputs": [
    {
     "data": {
      "application/vnd.jupyter.widget-view+json": {
       "model_id": "4e546ecb06bd4b01b107408fdde83911",
       "version_major": 2,
       "version_minor": 0
      },
      "text/plain": [
       "IntSlider(value=540000, description='Maximun Price', max=77000000, min=75000, style=SliderStyle(description_wi…"
      ]
     },
     "metadata": {},
     "output_type": "display_data"
    }
   ],
   "source": [
    "price_limit"
   ]
  },
  {
   "cell_type": "markdown",
   "id": "c32f129d",
   "metadata": {
    "ExecuteTime": {
     "end_time": "2022-01-06T01:16:52.858640Z",
     "start_time": "2022-01-06T01:16:52.842860Z"
    }
   },
   "source": [
    "# 4. Adicione os seguinte filtros no Mapa: \n",
    "- Tamanho mínimo da área da sala\n",
    "de estar.\n",
    "- Número mínimo de banheiros.\n",
    "- Valor Máximo do Preço.\n",
    "- Tamanho máximo da área do\n",
    "porão."
   ]
  },
  {
   "cell_type": "code",
   "execution_count": null,
   "id": "2a0b89bb",
   "metadata": {},
   "outputs": [],
   "source": []
  }
 ],
 "metadata": {
  "kernelspec": {
   "display_name": "Python 3 (ipykernel)",
   "language": "python",
   "name": "python3"
  },
  "language_info": {
   "codemirror_mode": {
    "name": "ipython",
    "version": 3
   },
   "file_extension": ".py",
   "mimetype": "text/x-python",
   "name": "python",
   "nbconvert_exporter": "python",
   "pygments_lexer": "ipython3",
   "version": "3.9.7"
  },
  "varInspector": {
   "cols": {
    "lenName": 16,
    "lenType": 16,
    "lenVar": 40
   },
   "kernels_config": {
    "python": {
     "delete_cmd_postfix": "",
     "delete_cmd_prefix": "del ",
     "library": "var_list.py",
     "varRefreshCmd": "print(var_dic_list())"
    },
    "r": {
     "delete_cmd_postfix": ") ",
     "delete_cmd_prefix": "rm(",
     "library": "var_list.r",
     "varRefreshCmd": "cat(var_dic_list()) "
    }
   },
   "types_to_exclude": [
    "module",
    "function",
    "builtin_function_or_method",
    "instance",
    "_Feature"
   ],
   "window_display": false
  }
 },
 "nbformat": 4,
 "nbformat_minor": 5
}
