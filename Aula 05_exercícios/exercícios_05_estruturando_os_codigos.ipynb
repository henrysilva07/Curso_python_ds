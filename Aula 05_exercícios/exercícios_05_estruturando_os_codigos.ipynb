{
 "cells": [
  {
   "cell_type": "markdown",
   "id": "080797b7",
   "metadata": {},
   "source": [
    "# Bibliotecas"
   ]
  },
  {
   "cell_type": "code",
   "execution_count": 1,
   "id": "94c986e1",
   "metadata": {
    "ExecuteTime": {
     "end_time": "2022-01-07T00:26:54.599570Z",
     "start_time": "2022-01-07T00:26:53.114751Z"
    }
   },
   "outputs": [],
   "source": [
    "import pandas as pd \n",
    "from geopy.geocoders import Nominatim #Biblioteca para buscar a localização"
   ]
  },
  {
   "cell_type": "markdown",
   "id": "6f4fb808",
   "metadata": {},
   "source": [
    "# Funções"
   ]
  },
  {
   "cell_type": "code",
   "execution_count": null,
   "id": "19a95c88",
   "metadata": {},
   "outputs": [],
   "source": []
  },
  {
   "cell_type": "code",
   "execution_count": null,
   "id": "4c63c687",
   "metadata": {},
   "outputs": [],
   "source": []
  },
  {
   "cell_type": "code",
   "execution_count": null,
   "id": "19e0d702",
   "metadata": {},
   "outputs": [],
   "source": []
  },
  {
   "cell_type": "markdown",
   "id": "39fe34ba",
   "metadata": {},
   "source": [
    "# Extração"
   ]
  },
  {
   "cell_type": "code",
   "execution_count": null,
   "id": "8f49470a",
   "metadata": {},
   "outputs": [],
   "source": []
  },
  {
   "cell_type": "code",
   "execution_count": null,
   "id": "caec0c68",
   "metadata": {},
   "outputs": [],
   "source": []
  },
  {
   "cell_type": "markdown",
   "id": "48b130b1",
   "metadata": {
    "ExecuteTime": {
     "end_time": "2022-01-08T17:28:47.985964Z",
     "start_time": "2022-01-08T17:28:47.976042Z"
    }
   },
   "source": [
    "# Transformação"
   ]
  },
  {
   "cell_type": "code",
   "execution_count": null,
   "id": "2adae579",
   "metadata": {},
   "outputs": [],
   "source": []
  },
  {
   "cell_type": "code",
   "execution_count": null,
   "id": "5d55b1fc",
   "metadata": {},
   "outputs": [],
   "source": []
  },
  {
   "cell_type": "markdown",
   "id": "cf9a239d",
   "metadata": {
    "ExecuteTime": {
     "end_time": "2022-01-08T17:28:51.865325Z",
     "start_time": "2022-01-08T17:28:51.853934Z"
    }
   },
   "source": [
    "# Carga"
   ]
  },
  {
   "cell_type": "code",
   "execution_count": null,
   "id": "7e4f8fbf",
   "metadata": {},
   "outputs": [],
   "source": []
  },
  {
   "cell_type": "code",
   "execution_count": null,
   "id": "f61fdd4e",
   "metadata": {},
   "outputs": [],
   "source": []
  },
  {
   "cell_type": "code",
   "execution_count": null,
   "id": "d590d4ca",
   "metadata": {},
   "outputs": [],
   "source": []
  }
 ],
 "metadata": {
  "kernelspec": {
   "display_name": "Python 3 (ipykernel)",
   "language": "python",
   "name": "python3"
  },
  "language_info": {
   "codemirror_mode": {
    "name": "ipython",
    "version": 3
   },
   "file_extension": ".py",
   "mimetype": "text/x-python",
   "name": "python",
   "nbconvert_exporter": "python",
   "pygments_lexer": "ipython3",
   "version": "3.9.7"
  },
  "varInspector": {
   "cols": {
    "lenName": 16,
    "lenType": 16,
    "lenVar": 40
   },
   "kernels_config": {
    "python": {
     "delete_cmd_postfix": "",
     "delete_cmd_prefix": "del ",
     "library": "var_list.py",
     "varRefreshCmd": "print(var_dic_list())"
    },
    "r": {
     "delete_cmd_postfix": ") ",
     "delete_cmd_prefix": "rm(",
     "library": "var_list.r",
     "varRefreshCmd": "cat(var_dic_list()) "
    }
   },
   "types_to_exclude": [
    "module",
    "function",
    "builtin_function_or_method",
    "instance",
    "_Feature"
   ],
   "window_display": false
  }
 },
 "nbformat": 4,
 "nbformat_minor": 5
}
