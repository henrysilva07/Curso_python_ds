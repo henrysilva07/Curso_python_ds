{
 "cells": [
  {
   "cell_type": "markdown",
   "id": "aa3e8125",
   "metadata": {},
   "source": [
    "# Análise exploratória dos dados "
   ]
  },
  {
   "cell_type": "markdown",
   "id": "e39433e4",
   "metadata": {},
   "source": [
    "A  House Rocket  é uma empresa do mercado imobiliário, atuando na compra e revenda de imóveis usados. Nesse contexto, o CEO da empresa busca realizar suas tomadas de decisões por meio de insights retirados de uma base de dados externa que contém informações acerca dos imóveis da região, como preço, número de quartos, banheiros e etc. \n",
    "\n",
    "Para isso O CEO da empresa realizou uma série de perguntar e necessita que elas sejam enviada por e-mail em um txt, junto com dois anexos (um mapa e um .csv com os dados)"
   ]
  },
  {
   "cell_type": "markdown",
   "id": "7f081420",
   "metadata": {},
   "source": [
    "### Importando as bibliotecas"
   ]
  },
  {
   "cell_type": "code",
   "execution_count": 81,
   "id": "f3c582c7",
   "metadata": {},
   "outputs": [],
   "source": [
    "import pandas as pd\n",
    "import numpy as np\n",
    "\n",
    "#Formatando os valores float - Notificação científica\n",
    "np.set_printoptions(suppress=True)\n",
    "pd.set_option('display.float_format', '{:.2f}'.format)"
   ]
  },
  {
   "cell_type": "code",
   "execution_count": 99,
   "id": "46f374e9",
   "metadata": {},
   "outputs": [
    {
     "ename": "SyntaxError",
     "evalue": "invalid syntax (Temp/ipykernel_6668/323016225.py, line 2)",
     "output_type": "error",
     "traceback": [
      "\u001b[1;36m  File \u001b[1;32m\"C:\\Users\\henry\\AppData\\Local\\Temp/ipykernel_6668/323016225.py\"\u001b[1;36m, line \u001b[1;32m2\u001b[0m\n\u001b[1;33m    jupyter contrib nbextension install --user\u001b[0m\n\u001b[1;37m            ^\u001b[0m\n\u001b[1;31mSyntaxError\u001b[0m\u001b[1;31m:\u001b[0m invalid syntax\n"
     ]
    }
   ],
   "source": [
    "!pip install jupyter_contrib_nbextensions\n",
    "jupyter contrib nbextension install --user\n",
    "jupyter nbextension enable execute_time/ExecuteTime"
   ]
  },
  {
   "cell_type": "markdown",
   "id": "434453bb",
   "metadata": {},
   "source": [
    "### Carregando o dataset"
   ]
  },
  {
   "cell_type": "code",
   "execution_count": 82,
   "id": "fe99a547",
   "metadata": {},
   "outputs": [],
   "source": [
    "df = pd.read_csv(r'dataset\\kc_house_data.csv')"
   ]
  },
  {
   "cell_type": "code",
   "execution_count": 83,
   "id": "a30a7849",
   "metadata": {},
   "outputs": [
    {
     "data": {
      "text/html": [
       "<div>\n",
       "<style scoped>\n",
       "    .dataframe tbody tr th:only-of-type {\n",
       "        vertical-align: middle;\n",
       "    }\n",
       "\n",
       "    .dataframe tbody tr th {\n",
       "        vertical-align: top;\n",
       "    }\n",
       "\n",
       "    .dataframe thead th {\n",
       "        text-align: right;\n",
       "    }\n",
       "</style>\n",
       "<table border=\"1\" class=\"dataframe\">\n",
       "  <thead>\n",
       "    <tr style=\"text-align: right;\">\n",
       "      <th></th>\n",
       "      <th>id</th>\n",
       "      <th>date</th>\n",
       "      <th>price</th>\n",
       "      <th>bedrooms</th>\n",
       "      <th>bathrooms</th>\n",
       "      <th>sqft_living</th>\n",
       "      <th>sqft_lot</th>\n",
       "      <th>floors</th>\n",
       "      <th>waterfront</th>\n",
       "      <th>view</th>\n",
       "      <th>...</th>\n",
       "      <th>grade</th>\n",
       "      <th>sqft_above</th>\n",
       "      <th>sqft_basement</th>\n",
       "      <th>yr_built</th>\n",
       "      <th>yr_renovated</th>\n",
       "      <th>zipcode</th>\n",
       "      <th>lat</th>\n",
       "      <th>long</th>\n",
       "      <th>sqft_living15</th>\n",
       "      <th>sqft_lot15</th>\n",
       "    </tr>\n",
       "  </thead>\n",
       "  <tbody>\n",
       "    <tr>\n",
       "      <th>0</th>\n",
       "      <td>7129300520</td>\n",
       "      <td>20141013T000000</td>\n",
       "      <td>221900.00</td>\n",
       "      <td>3</td>\n",
       "      <td>1.00</td>\n",
       "      <td>1180</td>\n",
       "      <td>5650</td>\n",
       "      <td>1.00</td>\n",
       "      <td>0</td>\n",
       "      <td>0</td>\n",
       "      <td>...</td>\n",
       "      <td>7</td>\n",
       "      <td>1180</td>\n",
       "      <td>0</td>\n",
       "      <td>1955</td>\n",
       "      <td>0</td>\n",
       "      <td>98178</td>\n",
       "      <td>47.51</td>\n",
       "      <td>-122.26</td>\n",
       "      <td>1340</td>\n",
       "      <td>5650</td>\n",
       "    </tr>\n",
       "    <tr>\n",
       "      <th>1</th>\n",
       "      <td>6414100192</td>\n",
       "      <td>20141209T000000</td>\n",
       "      <td>538000.00</td>\n",
       "      <td>3</td>\n",
       "      <td>2.25</td>\n",
       "      <td>2570</td>\n",
       "      <td>7242</td>\n",
       "      <td>2.00</td>\n",
       "      <td>0</td>\n",
       "      <td>0</td>\n",
       "      <td>...</td>\n",
       "      <td>7</td>\n",
       "      <td>2170</td>\n",
       "      <td>400</td>\n",
       "      <td>1951</td>\n",
       "      <td>1991</td>\n",
       "      <td>98125</td>\n",
       "      <td>47.72</td>\n",
       "      <td>-122.32</td>\n",
       "      <td>1690</td>\n",
       "      <td>7639</td>\n",
       "    </tr>\n",
       "    <tr>\n",
       "      <th>2</th>\n",
       "      <td>5631500400</td>\n",
       "      <td>20150225T000000</td>\n",
       "      <td>180000.00</td>\n",
       "      <td>2</td>\n",
       "      <td>1.00</td>\n",
       "      <td>770</td>\n",
       "      <td>10000</td>\n",
       "      <td>1.00</td>\n",
       "      <td>0</td>\n",
       "      <td>0</td>\n",
       "      <td>...</td>\n",
       "      <td>6</td>\n",
       "      <td>770</td>\n",
       "      <td>0</td>\n",
       "      <td>1933</td>\n",
       "      <td>0</td>\n",
       "      <td>98028</td>\n",
       "      <td>47.74</td>\n",
       "      <td>-122.23</td>\n",
       "      <td>2720</td>\n",
       "      <td>8062</td>\n",
       "    </tr>\n",
       "    <tr>\n",
       "      <th>3</th>\n",
       "      <td>2487200875</td>\n",
       "      <td>20141209T000000</td>\n",
       "      <td>604000.00</td>\n",
       "      <td>4</td>\n",
       "      <td>3.00</td>\n",
       "      <td>1960</td>\n",
       "      <td>5000</td>\n",
       "      <td>1.00</td>\n",
       "      <td>0</td>\n",
       "      <td>0</td>\n",
       "      <td>...</td>\n",
       "      <td>7</td>\n",
       "      <td>1050</td>\n",
       "      <td>910</td>\n",
       "      <td>1965</td>\n",
       "      <td>0</td>\n",
       "      <td>98136</td>\n",
       "      <td>47.52</td>\n",
       "      <td>-122.39</td>\n",
       "      <td>1360</td>\n",
       "      <td>5000</td>\n",
       "    </tr>\n",
       "    <tr>\n",
       "      <th>4</th>\n",
       "      <td>1954400510</td>\n",
       "      <td>20150218T000000</td>\n",
       "      <td>510000.00</td>\n",
       "      <td>3</td>\n",
       "      <td>2.00</td>\n",
       "      <td>1680</td>\n",
       "      <td>8080</td>\n",
       "      <td>1.00</td>\n",
       "      <td>0</td>\n",
       "      <td>0</td>\n",
       "      <td>...</td>\n",
       "      <td>8</td>\n",
       "      <td>1680</td>\n",
       "      <td>0</td>\n",
       "      <td>1987</td>\n",
       "      <td>0</td>\n",
       "      <td>98074</td>\n",
       "      <td>47.62</td>\n",
       "      <td>-122.05</td>\n",
       "      <td>1800</td>\n",
       "      <td>7503</td>\n",
       "    </tr>\n",
       "  </tbody>\n",
       "</table>\n",
       "<p>5 rows × 21 columns</p>\n",
       "</div>"
      ],
      "text/plain": [
       "           id             date     price  bedrooms  bathrooms  sqft_living  \\\n",
       "0  7129300520  20141013T000000 221900.00         3       1.00         1180   \n",
       "1  6414100192  20141209T000000 538000.00         3       2.25         2570   \n",
       "2  5631500400  20150225T000000 180000.00         2       1.00          770   \n",
       "3  2487200875  20141209T000000 604000.00         4       3.00         1960   \n",
       "4  1954400510  20150218T000000 510000.00         3       2.00         1680   \n",
       "\n",
       "   sqft_lot  floors  waterfront  view  ...  grade  sqft_above  sqft_basement  \\\n",
       "0      5650    1.00           0     0  ...      7        1180              0   \n",
       "1      7242    2.00           0     0  ...      7        2170            400   \n",
       "2     10000    1.00           0     0  ...      6         770              0   \n",
       "3      5000    1.00           0     0  ...      7        1050            910   \n",
       "4      8080    1.00           0     0  ...      8        1680              0   \n",
       "\n",
       "   yr_built  yr_renovated  zipcode   lat    long  sqft_living15  sqft_lot15  \n",
       "0      1955             0    98178 47.51 -122.26           1340        5650  \n",
       "1      1951          1991    98125 47.72 -122.32           1690        7639  \n",
       "2      1933             0    98028 47.74 -122.23           2720        8062  \n",
       "3      1965             0    98136 47.52 -122.39           1360        5000  \n",
       "4      1987             0    98074 47.62 -122.05           1800        7503  \n",
       "\n",
       "[5 rows x 21 columns]"
      ]
     },
     "execution_count": 83,
     "metadata": {},
     "output_type": "execute_result"
    }
   ],
   "source": [
    "#Imprimindo os 5 primeiros caracteres\n",
    "df.head(n=5)"
   ]
  },
  {
   "cell_type": "code",
   "execution_count": null,
   "id": "d63af30b",
   "metadata": {},
   "outputs": [],
   "source": [
    "df."
   ]
  },
  {
   "cell_type": "code",
   "execution_count": 84,
   "id": "70919670",
   "metadata": {},
   "outputs": [],
   "source": [
    "#Transformando a colunda date no formato de data\n",
    "df['date'] = pd.to_datetime(df['date'], format='%Y-%m-%d')"
   ]
  },
  {
   "cell_type": "code",
   "execution_count": 85,
   "id": "b82a7cff",
   "metadata": {},
   "outputs": [
    {
     "data": {
      "text/plain": [
       "0       2014-10-13\n",
       "1       2014-12-09\n",
       "2       2015-02-25\n",
       "3       2014-12-09\n",
       "4       2015-02-18\n",
       "           ...    \n",
       "21608   2014-05-21\n",
       "21609   2015-02-23\n",
       "21610   2014-06-23\n",
       "21611   2015-01-16\n",
       "21612   2014-10-15\n",
       "Name: date, Length: 21613, dtype: datetime64[ns]"
      ]
     },
     "execution_count": 85,
     "metadata": {},
     "output_type": "execute_result"
    }
   ],
   "source": [
    "#Exibindo a coluna date formatada\n",
    "df.date"
   ]
  },
  {
   "cell_type": "markdown",
   "id": "c6001033",
   "metadata": {},
   "source": [
    "### Respondendo as perguntas acerca do dataset"
   ]
  },
  {
   "cell_type": "markdown",
   "id": "eeb11eec",
   "metadata": {},
   "source": [
    "#### 1. Crie uma nova coluna chamada: “house_age” :\n",
    "- Se o valor da  coluna “date” for maior  que 2014-01-01 =>  ‘new_house’\n",
    "- Se o valor da coluna “date” for menorque 2014-01-01 => ‘old_house?"
   ]
  },
  {
   "cell_type": "code",
   "execution_count": 86,
   "id": "3990203e",
   "metadata": {},
   "outputs": [],
   "source": [
    "# Criando a coluna new_house\n",
    "df['house_age'] = ''\n",
    "df.loc[df['date'] > \"2014-01-01\" , 'house_age' ] = 'new_house'\n",
    "df.loc[df['date'] < \"2014-01-01\" , 'house_age' ] = 'old_house'"
   ]
  },
  {
   "cell_type": "markdown",
   "id": "78d7b2de",
   "metadata": {},
   "source": [
    "#### 2. Crie uma nova coluna chamada:“dormitory_type”\n",
    "- Se o valor da coluna “bedrooms” for menor ou igual à 1 => ‘studio’\n",
    "- Se o valor da coluna “bedrooms” for igual a 2 => ‘apartament’\n",
    "- Se o valor da coluna “bedrooms” for maior que 2 => ‘house'\n"
   ]
  },
  {
   "cell_type": "code",
   "execution_count": 87,
   "id": "d1213511",
   "metadata": {},
   "outputs": [],
   "source": [
    "#Criando a coluna dormitory_type\n",
    "df['dormitory_type'] = ''\n",
    "#Criando a classificação\n",
    "df.loc[df['bedrooms'] <= 1 , 'dormitory_type'] = 'studio'\n",
    "df.loc[df['bedrooms'] == 2 , 'dormitory_type'] = 'apartament'\n",
    "df.loc[df['bedrooms'] > 2 , 'dormitory_type'] = 'house'"
   ]
  },
  {
   "cell_type": "markdown",
   "id": "b8fb6142",
   "metadata": {},
   "source": [
    "#### 3. Crie uma nova coluna chamada:“condition_type”\n",
    "- Se o valor da coluna “condition” for menor ou igual à 2 => ‘bad’\n",
    "- Se o valor da coluna “condition” for igual à 3 ou 4 => ‘regular’\n",
    "- Se o valor da coluna “condition” for igual à 5 => ‘good’\n"
   ]
  },
  {
   "cell_type": "code",
   "execution_count": 88,
   "id": "5737cffd",
   "metadata": {},
   "outputs": [],
   "source": [
    "#Criando a coluna dormitory_type\n",
    "df['condition_type'] = ''"
   ]
  },
  {
   "cell_type": "code",
   "execution_count": 89,
   "id": "219a17dc",
   "metadata": {
    "scrolled": true
   },
   "outputs": [],
   "source": [
    "df['codition_type']  = df['condition'].apply(lambda x :\"bad\"  if  (x <= 2)  else \"regular\" if (x == 3) | (x == 4)  else 'good')"
   ]
  },
  {
   "cell_type": "markdown",
   "id": "97bda3c9",
   "metadata": {},
   "source": [
    "#### 4. Modifique o TIPO aColuna “condition” para STRING\n"
   ]
  },
  {
   "cell_type": "code",
   "execution_count": 90,
   "id": "be59dcf9",
   "metadata": {},
   "outputs": [],
   "source": [
    "# Alterando o tipo dos dados\n",
    "df['condition'] = df['condition'].astype(str )"
   ]
  },
  {
   "cell_type": "markdown",
   "id": "e2a0d444",
   "metadata": {},
   "source": [
    "#### 5. Delete as colunas: “sqft_living15” e “sqft_lot15"
   ]
  },
  {
   "cell_type": "code",
   "execution_count": 91,
   "id": "ff4fa7ff",
   "metadata": {},
   "outputs": [],
   "source": [
    "#Utilizando o comando DROP\n",
    "df.drop('sqft_living15' , axis = 'columns' , inplace = True )"
   ]
  },
  {
   "cell_type": "code",
   "execution_count": 92,
   "id": "fc6c46ae",
   "metadata": {},
   "outputs": [],
   "source": [
    "#Deletando com o comando DEL built-in do python \n",
    "del df['sqft_lot15']"
   ]
  },
  {
   "cell_type": "code",
   "execution_count": 93,
   "id": "fc72a26f",
   "metadata": {},
   "outputs": [
    {
     "data": {
      "text/plain": [
       "Index(['id', 'date', 'price', 'bedrooms', 'bathrooms', 'sqft_living',\n",
       "       'sqft_lot', 'floors', 'waterfront', 'view', 'condition', 'grade',\n",
       "       'sqft_above', 'sqft_basement', 'yr_built', 'yr_renovated', 'zipcode',\n",
       "       'lat', 'long', 'house_age', 'dormitory_type', 'condition_type',\n",
       "       'codition_type'],\n",
       "      dtype='object')"
      ]
     },
     "execution_count": 93,
     "metadata": {},
     "output_type": "execute_result"
    }
   ],
   "source": [
    "df.columns"
   ]
  },
  {
   "cell_type": "markdown",
   "id": "707b1f58",
   "metadata": {},
   "source": [
    "#### 6. Modifique o TIPO a Coluna “yr_build” para DATE"
   ]
  },
  {
   "cell_type": "code",
   "execution_count": 94,
   "id": "6196d977",
   "metadata": {},
   "outputs": [],
   "source": [
    "df['yr_built']  = pd.to_datetime(df['yr_built'] , format = '%Y' )"
   ]
  },
  {
   "cell_type": "markdown",
   "id": "0dc1e894",
   "metadata": {},
   "source": [
    "#### 7. Modifique o TIPO a Coluna “yr_renovated” para DATE"
   ]
  },
  {
   "cell_type": "code",
   "execution_count": 95,
   "id": "870167df",
   "metadata": {},
   "outputs": [],
   "source": [
    "# df['yr_renovated'] = df['yr_renovated'].apply( lambda x : pd.to_datetime(x , format = '%Y' )  if (x > 0)  else x )"
   ]
  },
  {
   "cell_type": "markdown",
   "id": "95906710",
   "metadata": {},
   "source": [
    "#### 8. Qual a data mais antiga de construção de um imóvel?"
   ]
  },
  {
   "cell_type": "code",
   "execution_count": 96,
   "id": "992417cc",
   "metadata": {},
   "outputs": [
    {
     "name": "stdout",
     "output_type": "stream",
     "text": [
      " A casa mais antiga foi construída no ano 1900.\n"
     ]
    }
   ],
   "source": [
    "date_min = df['yr_built'].min().year\n",
    "print(f\" A casa mais antiga foi construída no ano {date_min}.\")"
   ]
  },
  {
   "cell_type": "markdown",
   "id": "cdd3a052",
   "metadata": {},
   "source": [
    "\n",
    "#### 9. Qual a data mais antiga de renovação de um imóvel?"
   ]
  },
  {
   "cell_type": "code",
   "execution_count": 97,
   "id": "b3f5d37b",
   "metadata": {
    "collapsed": true
   },
   "outputs": [
    {
     "ename": "TypeError",
     "evalue": "'>' not supported between instances of 'Timestamp' and 'int'",
     "output_type": "error",
     "traceback": [
      "\u001b[1;31m---------------------------------------------------------------------------\u001b[0m",
      "\u001b[1;31mTypeError\u001b[0m                                 Traceback (most recent call last)",
      "\u001b[1;32m~\\AppData\\Local\\Temp/ipykernel_6668/2233910006.py\u001b[0m in \u001b[0;36m<module>\u001b[1;34m\u001b[0m\n\u001b[0;32m      1\u001b[0m \u001b[0mdf\u001b[0m\u001b[1;33m[\u001b[0m\u001b[1;34m'yr_renovated'\u001b[0m\u001b[1;33m]\u001b[0m \u001b[1;33m=\u001b[0m \u001b[0mdf\u001b[0m\u001b[1;33m[\u001b[0m\u001b[1;34m'yr_renovated'\u001b[0m\u001b[1;33m]\u001b[0m\u001b[1;33m.\u001b[0m\u001b[0mapply\u001b[0m\u001b[1;33m(\u001b[0m \u001b[1;32mlambda\u001b[0m \u001b[0mx\u001b[0m\u001b[1;33m:\u001b[0m \u001b[0mpd\u001b[0m\u001b[1;33m.\u001b[0m\u001b[0mto_datetime\u001b[0m\u001b[1;33m(\u001b[0m \u001b[0mx\u001b[0m\u001b[1;33m,\u001b[0m\u001b[0mformat\u001b[0m\u001b[1;33m=\u001b[0m\u001b[1;34m'%Y'\u001b[0m\u001b[1;33m)\u001b[0m \u001b[1;32mif\u001b[0m \u001b[0mx\u001b[0m \u001b[1;33m>\u001b[0m \u001b[1;36m0\u001b[0m \u001b[1;32melse\u001b[0m \u001b[0mx\u001b[0m \u001b[1;33m)\u001b[0m\u001b[1;33m\u001b[0m\u001b[1;33m\u001b[0m\u001b[0m\n\u001b[1;32m----> 2\u001b[1;33m \u001b[0maux\u001b[0m \u001b[1;33m=\u001b[0m \u001b[0mdf\u001b[0m\u001b[1;33m[\u001b[0m\u001b[0mdf\u001b[0m\u001b[1;33m[\u001b[0m\u001b[1;34m'yr_renovated'\u001b[0m\u001b[1;33m]\u001b[0m \u001b[1;33m>\u001b[0m \u001b[1;36m0\u001b[0m\u001b[1;33m]\u001b[0m\u001b[1;33m[\u001b[0m\u001b[1;34m'yr_renovated'\u001b[0m\u001b[1;33m]\u001b[0m\u001b[1;33m\u001b[0m\u001b[1;33m\u001b[0m\u001b[0m\n\u001b[0m",
      "\u001b[1;32m~\\anaconda3\\lib\\site-packages\\pandas\\core\\ops\\common.py\u001b[0m in \u001b[0;36mnew_method\u001b[1;34m(self, other)\u001b[0m\n\u001b[0;32m     67\u001b[0m         \u001b[0mother\u001b[0m \u001b[1;33m=\u001b[0m \u001b[0mitem_from_zerodim\u001b[0m\u001b[1;33m(\u001b[0m\u001b[0mother\u001b[0m\u001b[1;33m)\u001b[0m\u001b[1;33m\u001b[0m\u001b[1;33m\u001b[0m\u001b[0m\n\u001b[0;32m     68\u001b[0m \u001b[1;33m\u001b[0m\u001b[0m\n\u001b[1;32m---> 69\u001b[1;33m         \u001b[1;32mreturn\u001b[0m \u001b[0mmethod\u001b[0m\u001b[1;33m(\u001b[0m\u001b[0mself\u001b[0m\u001b[1;33m,\u001b[0m \u001b[0mother\u001b[0m\u001b[1;33m)\u001b[0m\u001b[1;33m\u001b[0m\u001b[1;33m\u001b[0m\u001b[0m\n\u001b[0m\u001b[0;32m     70\u001b[0m \u001b[1;33m\u001b[0m\u001b[0m\n\u001b[0;32m     71\u001b[0m     \u001b[1;32mreturn\u001b[0m \u001b[0mnew_method\u001b[0m\u001b[1;33m\u001b[0m\u001b[1;33m\u001b[0m\u001b[0m\n",
      "\u001b[1;32m~\\anaconda3\\lib\\site-packages\\pandas\\core\\arraylike.py\u001b[0m in \u001b[0;36m__gt__\u001b[1;34m(self, other)\u001b[0m\n\u001b[0;32m     46\u001b[0m     \u001b[1;33m@\u001b[0m\u001b[0munpack_zerodim_and_defer\u001b[0m\u001b[1;33m(\u001b[0m\u001b[1;34m\"__gt__\"\u001b[0m\u001b[1;33m)\u001b[0m\u001b[1;33m\u001b[0m\u001b[1;33m\u001b[0m\u001b[0m\n\u001b[0;32m     47\u001b[0m     \u001b[1;32mdef\u001b[0m \u001b[0m__gt__\u001b[0m\u001b[1;33m(\u001b[0m\u001b[0mself\u001b[0m\u001b[1;33m,\u001b[0m \u001b[0mother\u001b[0m\u001b[1;33m)\u001b[0m\u001b[1;33m:\u001b[0m\u001b[1;33m\u001b[0m\u001b[1;33m\u001b[0m\u001b[0m\n\u001b[1;32m---> 48\u001b[1;33m         \u001b[1;32mreturn\u001b[0m \u001b[0mself\u001b[0m\u001b[1;33m.\u001b[0m\u001b[0m_cmp_method\u001b[0m\u001b[1;33m(\u001b[0m\u001b[0mother\u001b[0m\u001b[1;33m,\u001b[0m \u001b[0moperator\u001b[0m\u001b[1;33m.\u001b[0m\u001b[0mgt\u001b[0m\u001b[1;33m)\u001b[0m\u001b[1;33m\u001b[0m\u001b[1;33m\u001b[0m\u001b[0m\n\u001b[0m\u001b[0;32m     49\u001b[0m \u001b[1;33m\u001b[0m\u001b[0m\n\u001b[0;32m     50\u001b[0m     \u001b[1;33m@\u001b[0m\u001b[0munpack_zerodim_and_defer\u001b[0m\u001b[1;33m(\u001b[0m\u001b[1;34m\"__ge__\"\u001b[0m\u001b[1;33m)\u001b[0m\u001b[1;33m\u001b[0m\u001b[1;33m\u001b[0m\u001b[0m\n",
      "\u001b[1;32m~\\anaconda3\\lib\\site-packages\\pandas\\core\\series.py\u001b[0m in \u001b[0;36m_cmp_method\u001b[1;34m(self, other, op)\u001b[0m\n\u001b[0;32m   5500\u001b[0m \u001b[1;33m\u001b[0m\u001b[0m\n\u001b[0;32m   5501\u001b[0m         \u001b[1;32mwith\u001b[0m \u001b[0mnp\u001b[0m\u001b[1;33m.\u001b[0m\u001b[0merrstate\u001b[0m\u001b[1;33m(\u001b[0m\u001b[0mall\u001b[0m\u001b[1;33m=\u001b[0m\u001b[1;34m\"ignore\"\u001b[0m\u001b[1;33m)\u001b[0m\u001b[1;33m:\u001b[0m\u001b[1;33m\u001b[0m\u001b[1;33m\u001b[0m\u001b[0m\n\u001b[1;32m-> 5502\u001b[1;33m             \u001b[0mres_values\u001b[0m \u001b[1;33m=\u001b[0m \u001b[0mops\u001b[0m\u001b[1;33m.\u001b[0m\u001b[0mcomparison_op\u001b[0m\u001b[1;33m(\u001b[0m\u001b[0mlvalues\u001b[0m\u001b[1;33m,\u001b[0m \u001b[0mrvalues\u001b[0m\u001b[1;33m,\u001b[0m \u001b[0mop\u001b[0m\u001b[1;33m)\u001b[0m\u001b[1;33m\u001b[0m\u001b[1;33m\u001b[0m\u001b[0m\n\u001b[0m\u001b[0;32m   5503\u001b[0m \u001b[1;33m\u001b[0m\u001b[0m\n\u001b[0;32m   5504\u001b[0m         \u001b[1;32mreturn\u001b[0m \u001b[0mself\u001b[0m\u001b[1;33m.\u001b[0m\u001b[0m_construct_result\u001b[0m\u001b[1;33m(\u001b[0m\u001b[0mres_values\u001b[0m\u001b[1;33m,\u001b[0m \u001b[0mname\u001b[0m\u001b[1;33m=\u001b[0m\u001b[0mres_name\u001b[0m\u001b[1;33m)\u001b[0m\u001b[1;33m\u001b[0m\u001b[1;33m\u001b[0m\u001b[0m\n",
      "\u001b[1;32m~\\anaconda3\\lib\\site-packages\\pandas\\core\\ops\\array_ops.py\u001b[0m in \u001b[0;36mcomparison_op\u001b[1;34m(left, right, op)\u001b[0m\n\u001b[0;32m    282\u001b[0m \u001b[1;33m\u001b[0m\u001b[0m\n\u001b[0;32m    283\u001b[0m     \u001b[1;32melif\u001b[0m \u001b[0mis_object_dtype\u001b[0m\u001b[1;33m(\u001b[0m\u001b[0mlvalues\u001b[0m\u001b[1;33m.\u001b[0m\u001b[0mdtype\u001b[0m\u001b[1;33m)\u001b[0m \u001b[1;32mor\u001b[0m \u001b[0misinstance\u001b[0m\u001b[1;33m(\u001b[0m\u001b[0mrvalues\u001b[0m\u001b[1;33m,\u001b[0m \u001b[0mstr\u001b[0m\u001b[1;33m)\u001b[0m\u001b[1;33m:\u001b[0m\u001b[1;33m\u001b[0m\u001b[1;33m\u001b[0m\u001b[0m\n\u001b[1;32m--> 284\u001b[1;33m         \u001b[0mres_values\u001b[0m \u001b[1;33m=\u001b[0m \u001b[0mcomp_method_OBJECT_ARRAY\u001b[0m\u001b[1;33m(\u001b[0m\u001b[0mop\u001b[0m\u001b[1;33m,\u001b[0m \u001b[0mlvalues\u001b[0m\u001b[1;33m,\u001b[0m \u001b[0mrvalues\u001b[0m\u001b[1;33m)\u001b[0m\u001b[1;33m\u001b[0m\u001b[1;33m\u001b[0m\u001b[0m\n\u001b[0m\u001b[0;32m    285\u001b[0m \u001b[1;33m\u001b[0m\u001b[0m\n\u001b[0;32m    286\u001b[0m     \u001b[1;32melse\u001b[0m\u001b[1;33m:\u001b[0m\u001b[1;33m\u001b[0m\u001b[1;33m\u001b[0m\u001b[0m\n",
      "\u001b[1;32m~\\anaconda3\\lib\\site-packages\\pandas\\core\\ops\\array_ops.py\u001b[0m in \u001b[0;36mcomp_method_OBJECT_ARRAY\u001b[1;34m(op, x, y)\u001b[0m\n\u001b[0;32m     71\u001b[0m         \u001b[0mresult\u001b[0m \u001b[1;33m=\u001b[0m \u001b[0mlibops\u001b[0m\u001b[1;33m.\u001b[0m\u001b[0mvec_compare\u001b[0m\u001b[1;33m(\u001b[0m\u001b[0mx\u001b[0m\u001b[1;33m.\u001b[0m\u001b[0mravel\u001b[0m\u001b[1;33m(\u001b[0m\u001b[1;33m)\u001b[0m\u001b[1;33m,\u001b[0m \u001b[0my\u001b[0m\u001b[1;33m.\u001b[0m\u001b[0mravel\u001b[0m\u001b[1;33m(\u001b[0m\u001b[1;33m)\u001b[0m\u001b[1;33m,\u001b[0m \u001b[0mop\u001b[0m\u001b[1;33m)\u001b[0m\u001b[1;33m\u001b[0m\u001b[1;33m\u001b[0m\u001b[0m\n\u001b[0;32m     72\u001b[0m     \u001b[1;32melse\u001b[0m\u001b[1;33m:\u001b[0m\u001b[1;33m\u001b[0m\u001b[1;33m\u001b[0m\u001b[0m\n\u001b[1;32m---> 73\u001b[1;33m         \u001b[0mresult\u001b[0m \u001b[1;33m=\u001b[0m \u001b[0mlibops\u001b[0m\u001b[1;33m.\u001b[0m\u001b[0mscalar_compare\u001b[0m\u001b[1;33m(\u001b[0m\u001b[0mx\u001b[0m\u001b[1;33m.\u001b[0m\u001b[0mravel\u001b[0m\u001b[1;33m(\u001b[0m\u001b[1;33m)\u001b[0m\u001b[1;33m,\u001b[0m \u001b[0my\u001b[0m\u001b[1;33m,\u001b[0m \u001b[0mop\u001b[0m\u001b[1;33m)\u001b[0m\u001b[1;33m\u001b[0m\u001b[1;33m\u001b[0m\u001b[0m\n\u001b[0m\u001b[0;32m     74\u001b[0m     \u001b[1;32mreturn\u001b[0m \u001b[0mresult\u001b[0m\u001b[1;33m.\u001b[0m\u001b[0mreshape\u001b[0m\u001b[1;33m(\u001b[0m\u001b[0mx\u001b[0m\u001b[1;33m.\u001b[0m\u001b[0mshape\u001b[0m\u001b[1;33m)\u001b[0m\u001b[1;33m\u001b[0m\u001b[1;33m\u001b[0m\u001b[0m\n\u001b[0;32m     75\u001b[0m \u001b[1;33m\u001b[0m\u001b[0m\n",
      "\u001b[1;32m~\\anaconda3\\lib\\site-packages\\pandas\\_libs\\ops.pyx\u001b[0m in \u001b[0;36mpandas._libs.ops.scalar_compare\u001b[1;34m()\u001b[0m\n",
      "\u001b[1;31mTypeError\u001b[0m: '>' not supported between instances of 'Timestamp' and 'int'"
     ]
    }
   ],
   "source": [
    "df['yr_renovated'] = df['yr_renovated'].apply( lambda x: pd.to_datetime( x,format='%Y') if x > 0 else x )\n",
    "aux = df[df['yr_renovated'] > 0]['yr_renovated']"
   ]
  },
  {
   "cell_type": "markdown",
   "id": "69432ead",
   "metadata": {},
   "source": [
    "#### 10. Quantos imóveis tem 2 andares?"
   ]
  },
  {
   "cell_type": "code",
   "execution_count": 79,
   "id": "e1e050fe",
   "metadata": {},
   "outputs": [
    {
     "name": "stdout",
     "output_type": "stream",
     "text": [
      " Existem 8241  imoveis com 2 andares\n"
     ]
    }
   ],
   "source": [
    "print(  f' Existem {df[df[\"floors\"] == 2 ].shape[0]}  imoveis com 2 andares')"
   ]
  },
  {
   "cell_type": "markdown",
   "id": "46f3bcf9",
   "metadata": {},
   "source": [
    "#### 11. Quantos imóveis estão com a condição igual a “regular” ?"
   ]
  },
  {
   "cell_type": "code",
   "execution_count": 80,
   "id": "4949daa2",
   "metadata": {},
   "outputs": [
    {
     "name": "stdout",
     "output_type": "stream",
     "text": [
      " Existem 19710 imóveis regulares\n"
     ]
    }
   ],
   "source": [
    "print(  f' Existem {df[df[\"condition_type\"] == \"regular\" ].shape[0]} imóveis regulares')"
   ]
  },
  {
   "cell_type": "markdown",
   "id": "238ea290",
   "metadata": {},
   "source": [
    "\n",
    "#### 12. Quantos imóveis estão com a condição igual a “bad”e possuem“vista para água” ?"
   ]
  },
  {
   "cell_type": "code",
   "execution_count": 95,
   "id": "e9764a1c",
   "metadata": {},
   "outputs": [
    {
     "name": "stdout",
     "output_type": "stream",
     "text": [
      " Existem 141 imóveis com condição \"bad\" e com vista para o mar\n"
     ]
    }
   ],
   "source": [
    "\n",
    "print(  f' Existem {df[(df[\"condition_type\"] == \"regular\") & (df[\"waterfront\"] == 1)].shape[0]} imóveis com condição \"bad\" e com vista para o mar')"
   ]
  },
  {
   "cell_type": "markdown",
   "id": "b39cea32",
   "metadata": {},
   "source": [
    "#### 13. Quantos imóveis estão com a condição igual a “good” e são “new_house”?"
   ]
  },
  {
   "cell_type": "code",
   "execution_count": 97,
   "id": "f74a6eec",
   "metadata": {},
   "outputs": [
    {
     "name": "stdout",
     "output_type": "stream",
     "text": [
      " Existem 1701 imóveis com condição \"bad\" e com vista para o mar\n"
     ]
    }
   ],
   "source": [
    "\n",
    "print(  f' Existem {df[(df[\"condition_type\"] == \"good\") & (df[\"house_age\"] == \"new_house\")].shape[0]} imóveis com condição \"bad\" e com vista para o mar')"
   ]
  },
  {
   "cell_type": "markdown",
   "id": "f708c5f4",
   "metadata": {},
   "source": [
    "#### 14. Qual o valor do imóvel mais caro do tipo “studio” ?"
   ]
  },
  {
   "cell_type": "code",
   "execution_count": 100,
   "id": "92af51a8",
   "metadata": {},
   "outputs": [
    {
     "data": {
      "text/html": [
       "<div>\n",
       "<style scoped>\n",
       "    .dataframe tbody tr th:only-of-type {\n",
       "        vertical-align: middle;\n",
       "    }\n",
       "\n",
       "    .dataframe tbody tr th {\n",
       "        vertical-align: top;\n",
       "    }\n",
       "\n",
       "    .dataframe thead th {\n",
       "        text-align: right;\n",
       "    }\n",
       "</style>\n",
       "<table border=\"1\" class=\"dataframe\">\n",
       "  <thead>\n",
       "    <tr style=\"text-align: right;\">\n",
       "      <th></th>\n",
       "      <th>id</th>\n",
       "      <th>date</th>\n",
       "      <th>price</th>\n",
       "      <th>bedrooms</th>\n",
       "      <th>bathrooms</th>\n",
       "      <th>sqft_living</th>\n",
       "      <th>sqft_lot</th>\n",
       "      <th>floors</th>\n",
       "      <th>waterfront</th>\n",
       "      <th>view</th>\n",
       "      <th>...</th>\n",
       "      <th>sqft_above</th>\n",
       "      <th>sqft_basement</th>\n",
       "      <th>yr_built</th>\n",
       "      <th>yr_renovated</th>\n",
       "      <th>zipcode</th>\n",
       "      <th>lat</th>\n",
       "      <th>long</th>\n",
       "      <th>house_age</th>\n",
       "      <th>dormitory_type</th>\n",
       "      <th>condition_type</th>\n",
       "    </tr>\n",
       "  </thead>\n",
       "  <tbody>\n",
       "    <tr>\n",
       "      <th>6994</th>\n",
       "      <td>2954400190</td>\n",
       "      <td>2014-06-24</td>\n",
       "      <td>1295650.0</td>\n",
       "      <td>0</td>\n",
       "      <td>0.00</td>\n",
       "      <td>4810</td>\n",
       "      <td>28008</td>\n",
       "      <td>2.0</td>\n",
       "      <td>0</td>\n",
       "      <td>0</td>\n",
       "      <td>...</td>\n",
       "      <td>4810</td>\n",
       "      <td>0</td>\n",
       "      <td>1970-01-01 00:00:00.000001990</td>\n",
       "      <td>1970-01-01 00:00:00.000000000</td>\n",
       "      <td>98053</td>\n",
       "      <td>47.6642</td>\n",
       "      <td>-122.069</td>\n",
       "      <td>new_house</td>\n",
       "      <td>studio</td>\n",
       "      <td>regular</td>\n",
       "    </tr>\n",
       "    <tr>\n",
       "      <th>8445</th>\n",
       "      <td>724069023</td>\n",
       "      <td>2015-04-14</td>\n",
       "      <td>1247000.0</td>\n",
       "      <td>1</td>\n",
       "      <td>1.25</td>\n",
       "      <td>1810</td>\n",
       "      <td>5070</td>\n",
       "      <td>1.5</td>\n",
       "      <td>1</td>\n",
       "      <td>4</td>\n",
       "      <td>...</td>\n",
       "      <td>1230</td>\n",
       "      <td>580</td>\n",
       "      <td>1970-01-01 00:00:00.000001967</td>\n",
       "      <td>1970-01-01 00:00:00.000000000</td>\n",
       "      <td>98075</td>\n",
       "      <td>47.5814</td>\n",
       "      <td>-122.081</td>\n",
       "      <td>new_house</td>\n",
       "      <td>studio</td>\n",
       "      <td>regular</td>\n",
       "    </tr>\n",
       "    <tr>\n",
       "      <th>875</th>\n",
       "      <td>6306400140</td>\n",
       "      <td>2014-06-12</td>\n",
       "      <td>1095000.0</td>\n",
       "      <td>0</td>\n",
       "      <td>0.00</td>\n",
       "      <td>3064</td>\n",
       "      <td>4764</td>\n",
       "      <td>3.5</td>\n",
       "      <td>0</td>\n",
       "      <td>2</td>\n",
       "      <td>...</td>\n",
       "      <td>3064</td>\n",
       "      <td>0</td>\n",
       "      <td>1970-01-01 00:00:00.000001990</td>\n",
       "      <td>1970-01-01 00:00:00.000000000</td>\n",
       "      <td>98102</td>\n",
       "      <td>47.6362</td>\n",
       "      <td>-122.322</td>\n",
       "      <td>new_house</td>\n",
       "      <td>studio</td>\n",
       "      <td>regular</td>\n",
       "    </tr>\n",
       "    <tr>\n",
       "      <th>9888</th>\n",
       "      <td>1231000310</td>\n",
       "      <td>2014-08-12</td>\n",
       "      <td>713000.0</td>\n",
       "      <td>1</td>\n",
       "      <td>1.00</td>\n",
       "      <td>1180</td>\n",
       "      <td>4000</td>\n",
       "      <td>1.5</td>\n",
       "      <td>0</td>\n",
       "      <td>2</td>\n",
       "      <td>...</td>\n",
       "      <td>840</td>\n",
       "      <td>340</td>\n",
       "      <td>1970-01-01 00:00:00.000001910</td>\n",
       "      <td>1970-01-01 00:00:00.000000000</td>\n",
       "      <td>98118</td>\n",
       "      <td>47.5561</td>\n",
       "      <td>-122.266</td>\n",
       "      <td>new_house</td>\n",
       "      <td>studio</td>\n",
       "      <td>regular</td>\n",
       "    </tr>\n",
       "    <tr>\n",
       "      <th>4410</th>\n",
       "      <td>4083304190</td>\n",
       "      <td>2014-08-04</td>\n",
       "      <td>680000.0</td>\n",
       "      <td>1</td>\n",
       "      <td>2.50</td>\n",
       "      <td>1820</td>\n",
       "      <td>3008</td>\n",
       "      <td>2.0</td>\n",
       "      <td>0</td>\n",
       "      <td>0</td>\n",
       "      <td>...</td>\n",
       "      <td>1090</td>\n",
       "      <td>730</td>\n",
       "      <td>1970-01-01 00:00:00.000001910</td>\n",
       "      <td>1970-01-01 00:00:00.000002004</td>\n",
       "      <td>98103</td>\n",
       "      <td>47.6529</td>\n",
       "      <td>-122.339</td>\n",
       "      <td>new_house</td>\n",
       "      <td>studio</td>\n",
       "      <td>regular</td>\n",
       "    </tr>\n",
       "    <tr>\n",
       "      <th>...</th>\n",
       "      <td>...</td>\n",
       "      <td>...</td>\n",
       "      <td>...</td>\n",
       "      <td>...</td>\n",
       "      <td>...</td>\n",
       "      <td>...</td>\n",
       "      <td>...</td>\n",
       "      <td>...</td>\n",
       "      <td>...</td>\n",
       "      <td>...</td>\n",
       "      <td>...</td>\n",
       "      <td>...</td>\n",
       "      <td>...</td>\n",
       "      <td>...</td>\n",
       "      <td>...</td>\n",
       "      <td>...</td>\n",
       "      <td>...</td>\n",
       "      <td>...</td>\n",
       "      <td>...</td>\n",
       "      <td>...</td>\n",
       "      <td>...</td>\n",
       "    </tr>\n",
       "    <tr>\n",
       "      <th>16530</th>\n",
       "      <td>2114700500</td>\n",
       "      <td>2015-04-18</td>\n",
       "      <td>90000.0</td>\n",
       "      <td>1</td>\n",
       "      <td>1.00</td>\n",
       "      <td>560</td>\n",
       "      <td>4120</td>\n",
       "      <td>1.0</td>\n",
       "      <td>0</td>\n",
       "      <td>0</td>\n",
       "      <td>...</td>\n",
       "      <td>560</td>\n",
       "      <td>0</td>\n",
       "      <td>1970-01-01 00:00:00.000001947</td>\n",
       "      <td>1970-01-01 00:00:00.000000000</td>\n",
       "      <td>98106</td>\n",
       "      <td>47.5335</td>\n",
       "      <td>-122.348</td>\n",
       "      <td>new_house</td>\n",
       "      <td>studio</td>\n",
       "      <td>regular</td>\n",
       "    </tr>\n",
       "    <tr>\n",
       "      <th>7992</th>\n",
       "      <td>2734100835</td>\n",
       "      <td>2015-03-03</td>\n",
       "      <td>90000.0</td>\n",
       "      <td>1</td>\n",
       "      <td>1.00</td>\n",
       "      <td>780</td>\n",
       "      <td>4000</td>\n",
       "      <td>1.0</td>\n",
       "      <td>0</td>\n",
       "      <td>0</td>\n",
       "      <td>...</td>\n",
       "      <td>780</td>\n",
       "      <td>0</td>\n",
       "      <td>1970-01-01 00:00:00.000001905</td>\n",
       "      <td>1970-01-01 00:00:00.000000000</td>\n",
       "      <td>98108</td>\n",
       "      <td>47.5424</td>\n",
       "      <td>-122.321</td>\n",
       "      <td>new_house</td>\n",
       "      <td>studio</td>\n",
       "      <td>regular</td>\n",
       "    </tr>\n",
       "    <tr>\n",
       "      <th>3108</th>\n",
       "      <td>1721801591</td>\n",
       "      <td>2015-02-19</td>\n",
       "      <td>89950.0</td>\n",
       "      <td>1</td>\n",
       "      <td>1.00</td>\n",
       "      <td>570</td>\n",
       "      <td>4080</td>\n",
       "      <td>1.0</td>\n",
       "      <td>0</td>\n",
       "      <td>0</td>\n",
       "      <td>...</td>\n",
       "      <td>570</td>\n",
       "      <td>0</td>\n",
       "      <td>1970-01-01 00:00:00.000001942</td>\n",
       "      <td>1970-01-01 00:00:00.000000000</td>\n",
       "      <td>98146</td>\n",
       "      <td>47.5098</td>\n",
       "      <td>-122.334</td>\n",
       "      <td>new_house</td>\n",
       "      <td>studio</td>\n",
       "      <td>regular</td>\n",
       "    </tr>\n",
       "    <tr>\n",
       "      <th>465</th>\n",
       "      <td>8658300340</td>\n",
       "      <td>2014-05-23</td>\n",
       "      <td>80000.0</td>\n",
       "      <td>1</td>\n",
       "      <td>0.75</td>\n",
       "      <td>430</td>\n",
       "      <td>5050</td>\n",
       "      <td>1.0</td>\n",
       "      <td>0</td>\n",
       "      <td>0</td>\n",
       "      <td>...</td>\n",
       "      <td>430</td>\n",
       "      <td>0</td>\n",
       "      <td>1970-01-01 00:00:00.000001912</td>\n",
       "      <td>1970-01-01 00:00:00.000000000</td>\n",
       "      <td>98014</td>\n",
       "      <td>47.6499</td>\n",
       "      <td>-121.909</td>\n",
       "      <td>new_house</td>\n",
       "      <td>studio</td>\n",
       "      <td>bad</td>\n",
       "    </tr>\n",
       "    <tr>\n",
       "      <th>1149</th>\n",
       "      <td>3421079032</td>\n",
       "      <td>2015-02-17</td>\n",
       "      <td>75000.0</td>\n",
       "      <td>1</td>\n",
       "      <td>0.00</td>\n",
       "      <td>670</td>\n",
       "      <td>43377</td>\n",
       "      <td>1.0</td>\n",
       "      <td>0</td>\n",
       "      <td>0</td>\n",
       "      <td>...</td>\n",
       "      <td>670</td>\n",
       "      <td>0</td>\n",
       "      <td>1970-01-01 00:00:00.000001966</td>\n",
       "      <td>1970-01-01 00:00:00.000000000</td>\n",
       "      <td>98022</td>\n",
       "      <td>47.2638</td>\n",
       "      <td>-121.906</td>\n",
       "      <td>new_house</td>\n",
       "      <td>studio</td>\n",
       "      <td>regular</td>\n",
       "    </tr>\n",
       "  </tbody>\n",
       "</table>\n",
       "<p>212 rows × 22 columns</p>\n",
       "</div>"
      ],
      "text/plain": [
       "               id       date      price  bedrooms  bathrooms  sqft_living  \\\n",
       "6994   2954400190 2014-06-24  1295650.0         0       0.00         4810   \n",
       "8445    724069023 2015-04-14  1247000.0         1       1.25         1810   \n",
       "875    6306400140 2014-06-12  1095000.0         0       0.00         3064   \n",
       "9888   1231000310 2014-08-12   713000.0         1       1.00         1180   \n",
       "4410   4083304190 2014-08-04   680000.0         1       2.50         1820   \n",
       "...           ...        ...        ...       ...        ...          ...   \n",
       "16530  2114700500 2015-04-18    90000.0         1       1.00          560   \n",
       "7992   2734100835 2015-03-03    90000.0         1       1.00          780   \n",
       "3108   1721801591 2015-02-19    89950.0         1       1.00          570   \n",
       "465    8658300340 2014-05-23    80000.0         1       0.75          430   \n",
       "1149   3421079032 2015-02-17    75000.0         1       0.00          670   \n",
       "\n",
       "       sqft_lot  floors  waterfront  view  ... sqft_above  sqft_basement  \\\n",
       "6994      28008     2.0           0     0  ...       4810              0   \n",
       "8445       5070     1.5           1     4  ...       1230            580   \n",
       "875        4764     3.5           0     2  ...       3064              0   \n",
       "9888       4000     1.5           0     2  ...        840            340   \n",
       "4410       3008     2.0           0     0  ...       1090            730   \n",
       "...         ...     ...         ...   ...  ...        ...            ...   \n",
       "16530      4120     1.0           0     0  ...        560              0   \n",
       "7992       4000     1.0           0     0  ...        780              0   \n",
       "3108       4080     1.0           0     0  ...        570              0   \n",
       "465        5050     1.0           0     0  ...        430              0   \n",
       "1149      43377     1.0           0     0  ...        670              0   \n",
       "\n",
       "                           yr_built                  yr_renovated zipcode  \\\n",
       "6994  1970-01-01 00:00:00.000001990 1970-01-01 00:00:00.000000000   98053   \n",
       "8445  1970-01-01 00:00:00.000001967 1970-01-01 00:00:00.000000000   98075   \n",
       "875   1970-01-01 00:00:00.000001990 1970-01-01 00:00:00.000000000   98102   \n",
       "9888  1970-01-01 00:00:00.000001910 1970-01-01 00:00:00.000000000   98118   \n",
       "4410  1970-01-01 00:00:00.000001910 1970-01-01 00:00:00.000002004   98103   \n",
       "...                             ...                           ...     ...   \n",
       "16530 1970-01-01 00:00:00.000001947 1970-01-01 00:00:00.000000000   98106   \n",
       "7992  1970-01-01 00:00:00.000001905 1970-01-01 00:00:00.000000000   98108   \n",
       "3108  1970-01-01 00:00:00.000001942 1970-01-01 00:00:00.000000000   98146   \n",
       "465   1970-01-01 00:00:00.000001912 1970-01-01 00:00:00.000000000   98014   \n",
       "1149  1970-01-01 00:00:00.000001966 1970-01-01 00:00:00.000000000   98022   \n",
       "\n",
       "           lat     long  house_age  dormitory_type condition_type  \n",
       "6994   47.6642 -122.069  new_house          studio        regular  \n",
       "8445   47.5814 -122.081  new_house          studio        regular  \n",
       "875    47.6362 -122.322  new_house          studio        regular  \n",
       "9888   47.5561 -122.266  new_house          studio        regular  \n",
       "4410   47.6529 -122.339  new_house          studio        regular  \n",
       "...        ...      ...        ...             ...            ...  \n",
       "16530  47.5335 -122.348  new_house          studio        regular  \n",
       "7992   47.5424 -122.321  new_house          studio        regular  \n",
       "3108   47.5098 -122.334  new_house          studio        regular  \n",
       "465    47.6499 -121.909  new_house          studio            bad  \n",
       "1149   47.2638 -121.906  new_house          studio        regular  \n",
       "\n",
       "[212 rows x 22 columns]"
      ]
     },
     "execution_count": 100,
     "metadata": {},
     "output_type": "execute_result"
    }
   ],
   "source": [
    "df[(df[\"dormitory_type\"] == \"studio\")].sort_values(by = 'price' , ascending = False)"
   ]
  },
  {
   "cell_type": "markdown",
   "id": "f638d2c5",
   "metadata": {},
   "source": [
    "#### 14. Das casas com vista para o mar, quantas tem 3 quartos?\n"
   ]
  },
  {
   "cell_type": "code",
   "execution_count": 84,
   "id": "c604cac8",
   "metadata": {},
   "outputs": [
    {
     "name": "stdout",
     "output_type": "stream",
     "text": [
      "O número de casas que possuem vista para o mar e 3 quartos é 64\n"
     ]
    }
   ],
   "source": [
    "print(f\"O número de casas que possuem vista para o mar e 3 quartos é {df[(df['waterfront'] == 1) & (df['bedrooms'] == 3) ].shape[0]}\")"
   ]
  },
  {
   "cell_type": "markdown",
   "id": "b9a3ff87",
   "metadata": {},
   "source": [
    "#### 15. Das casas com mais de 300 metros quadrados de sala de estar, quantas tem mais de 2 banheiros?"
   ]
  },
  {
   "cell_type": "code",
   "execution_count": 85,
   "id": "2e71c54a",
   "metadata": {},
   "outputs": [
    {
     "ename": "KeyError",
     "evalue": "'sqft_living15'",
     "output_type": "error",
     "traceback": [
      "\u001b[1;31m---------------------------------------------------------------------------\u001b[0m",
      "\u001b[1;31mKeyError\u001b[0m                                  Traceback (most recent call last)",
      "\u001b[1;32m~\\anaconda3\\lib\\site-packages\\pandas\\core\\indexes\\base.py\u001b[0m in \u001b[0;36mget_loc\u001b[1;34m(self, key, method, tolerance)\u001b[0m\n\u001b[0;32m   3360\u001b[0m             \u001b[1;32mtry\u001b[0m\u001b[1;33m:\u001b[0m\u001b[1;33m\u001b[0m\u001b[1;33m\u001b[0m\u001b[0m\n\u001b[1;32m-> 3361\u001b[1;33m                 \u001b[1;32mreturn\u001b[0m \u001b[0mself\u001b[0m\u001b[1;33m.\u001b[0m\u001b[0m_engine\u001b[0m\u001b[1;33m.\u001b[0m\u001b[0mget_loc\u001b[0m\u001b[1;33m(\u001b[0m\u001b[0mcasted_key\u001b[0m\u001b[1;33m)\u001b[0m\u001b[1;33m\u001b[0m\u001b[1;33m\u001b[0m\u001b[0m\n\u001b[0m\u001b[0;32m   3362\u001b[0m             \u001b[1;32mexcept\u001b[0m \u001b[0mKeyError\u001b[0m \u001b[1;32mas\u001b[0m \u001b[0merr\u001b[0m\u001b[1;33m:\u001b[0m\u001b[1;33m\u001b[0m\u001b[1;33m\u001b[0m\u001b[0m\n",
      "\u001b[1;32m~\\anaconda3\\lib\\site-packages\\pandas\\_libs\\index.pyx\u001b[0m in \u001b[0;36mpandas._libs.index.IndexEngine.get_loc\u001b[1;34m()\u001b[0m\n",
      "\u001b[1;32m~\\anaconda3\\lib\\site-packages\\pandas\\_libs\\index.pyx\u001b[0m in \u001b[0;36mpandas._libs.index.IndexEngine.get_loc\u001b[1;34m()\u001b[0m\n",
      "\u001b[1;32mpandas\\_libs\\hashtable_class_helper.pxi\u001b[0m in \u001b[0;36mpandas._libs.hashtable.PyObjectHashTable.get_item\u001b[1;34m()\u001b[0m\n",
      "\u001b[1;32mpandas\\_libs\\hashtable_class_helper.pxi\u001b[0m in \u001b[0;36mpandas._libs.hashtable.PyObjectHashTable.get_item\u001b[1;34m()\u001b[0m\n",
      "\u001b[1;31mKeyError\u001b[0m: 'sqft_living15'",
      "\nThe above exception was the direct cause of the following exception:\n",
      "\u001b[1;31mKeyError\u001b[0m                                  Traceback (most recent call last)",
      "\u001b[1;32m~\\AppData\\Local\\Temp/ipykernel_11048/198571758.py\u001b[0m in \u001b[0;36m<module>\u001b[1;34m\u001b[0m\n\u001b[1;32m----> 1\u001b[1;33m \u001b[0mprint\u001b[0m\u001b[1;33m(\u001b[0m\u001b[1;34mf\"O número de casas que possuem sala de estar com + 300 m2 e 2 banheiros é {df[(df['sqft_living15'] > 300.0) & (df['bathrooms'] == 2.0) ].shape[0]}\"\u001b[0m\u001b[1;33m)\u001b[0m\u001b[1;33m\u001b[0m\u001b[1;33m\u001b[0m\u001b[0m\n\u001b[0m",
      "\u001b[1;32m~\\anaconda3\\lib\\site-packages\\pandas\\core\\frame.py\u001b[0m in \u001b[0;36m__getitem__\u001b[1;34m(self, key)\u001b[0m\n\u001b[0;32m   3456\u001b[0m             \u001b[1;32mif\u001b[0m \u001b[0mself\u001b[0m\u001b[1;33m.\u001b[0m\u001b[0mcolumns\u001b[0m\u001b[1;33m.\u001b[0m\u001b[0mnlevels\u001b[0m \u001b[1;33m>\u001b[0m \u001b[1;36m1\u001b[0m\u001b[1;33m:\u001b[0m\u001b[1;33m\u001b[0m\u001b[1;33m\u001b[0m\u001b[0m\n\u001b[0;32m   3457\u001b[0m                 \u001b[1;32mreturn\u001b[0m \u001b[0mself\u001b[0m\u001b[1;33m.\u001b[0m\u001b[0m_getitem_multilevel\u001b[0m\u001b[1;33m(\u001b[0m\u001b[0mkey\u001b[0m\u001b[1;33m)\u001b[0m\u001b[1;33m\u001b[0m\u001b[1;33m\u001b[0m\u001b[0m\n\u001b[1;32m-> 3458\u001b[1;33m             \u001b[0mindexer\u001b[0m \u001b[1;33m=\u001b[0m \u001b[0mself\u001b[0m\u001b[1;33m.\u001b[0m\u001b[0mcolumns\u001b[0m\u001b[1;33m.\u001b[0m\u001b[0mget_loc\u001b[0m\u001b[1;33m(\u001b[0m\u001b[0mkey\u001b[0m\u001b[1;33m)\u001b[0m\u001b[1;33m\u001b[0m\u001b[1;33m\u001b[0m\u001b[0m\n\u001b[0m\u001b[0;32m   3459\u001b[0m             \u001b[1;32mif\u001b[0m \u001b[0mis_integer\u001b[0m\u001b[1;33m(\u001b[0m\u001b[0mindexer\u001b[0m\u001b[1;33m)\u001b[0m\u001b[1;33m:\u001b[0m\u001b[1;33m\u001b[0m\u001b[1;33m\u001b[0m\u001b[0m\n\u001b[0;32m   3460\u001b[0m                 \u001b[0mindexer\u001b[0m \u001b[1;33m=\u001b[0m \u001b[1;33m[\u001b[0m\u001b[0mindexer\u001b[0m\u001b[1;33m]\u001b[0m\u001b[1;33m\u001b[0m\u001b[1;33m\u001b[0m\u001b[0m\n",
      "\u001b[1;32m~\\anaconda3\\lib\\site-packages\\pandas\\core\\indexes\\base.py\u001b[0m in \u001b[0;36mget_loc\u001b[1;34m(self, key, method, tolerance)\u001b[0m\n\u001b[0;32m   3361\u001b[0m                 \u001b[1;32mreturn\u001b[0m \u001b[0mself\u001b[0m\u001b[1;33m.\u001b[0m\u001b[0m_engine\u001b[0m\u001b[1;33m.\u001b[0m\u001b[0mget_loc\u001b[0m\u001b[1;33m(\u001b[0m\u001b[0mcasted_key\u001b[0m\u001b[1;33m)\u001b[0m\u001b[1;33m\u001b[0m\u001b[1;33m\u001b[0m\u001b[0m\n\u001b[0;32m   3362\u001b[0m             \u001b[1;32mexcept\u001b[0m \u001b[0mKeyError\u001b[0m \u001b[1;32mas\u001b[0m \u001b[0merr\u001b[0m\u001b[1;33m:\u001b[0m\u001b[1;33m\u001b[0m\u001b[1;33m\u001b[0m\u001b[0m\n\u001b[1;32m-> 3363\u001b[1;33m                 \u001b[1;32mraise\u001b[0m \u001b[0mKeyError\u001b[0m\u001b[1;33m(\u001b[0m\u001b[0mkey\u001b[0m\u001b[1;33m)\u001b[0m \u001b[1;32mfrom\u001b[0m \u001b[0merr\u001b[0m\u001b[1;33m\u001b[0m\u001b[1;33m\u001b[0m\u001b[0m\n\u001b[0m\u001b[0;32m   3364\u001b[0m \u001b[1;33m\u001b[0m\u001b[0m\n\u001b[0;32m   3365\u001b[0m         \u001b[1;32mif\u001b[0m \u001b[0mis_scalar\u001b[0m\u001b[1;33m(\u001b[0m\u001b[0mkey\u001b[0m\u001b[1;33m)\u001b[0m \u001b[1;32mand\u001b[0m \u001b[0misna\u001b[0m\u001b[1;33m(\u001b[0m\u001b[0mkey\u001b[0m\u001b[1;33m)\u001b[0m \u001b[1;32mand\u001b[0m \u001b[1;32mnot\u001b[0m \u001b[0mself\u001b[0m\u001b[1;33m.\u001b[0m\u001b[0mhasnans\u001b[0m\u001b[1;33m:\u001b[0m\u001b[1;33m\u001b[0m\u001b[1;33m\u001b[0m\u001b[0m\n",
      "\u001b[1;31mKeyError\u001b[0m: 'sqft_living15'"
     ]
    }
   ],
   "source": [
    "print(f\"O número de casas que possuem sala de estar com + 300 m2 e 2 banheiros é {df[(df['sqft_living15'] > 300.0) & (df['bathrooms'] == 2.0) ].shape[0]}\")"
   ]
  },
  {
   "cell_type": "markdown",
   "id": "f8127142",
   "metadata": {},
   "source": [
    "### Concluido"
   ]
  },
  {
   "cell_type": "code",
   "execution_count": null,
   "id": "7fa8ad52",
   "metadata": {},
   "outputs": [],
   "source": []
  }
 ],
 "metadata": {
  "kernelspec": {
   "display_name": "Python 3 (ipykernel)",
   "language": "python",
   "name": "python3"
  },
  "language_info": {
   "codemirror_mode": {
    "name": "ipython",
    "version": 3
   },
   "file_extension": ".py",
   "mimetype": "text/x-python",
   "name": "python",
   "nbconvert_exporter": "python",
   "pygments_lexer": "ipython3",
   "version": "3.9.7"
  }
 },
 "nbformat": 4,
 "nbformat_minor": 5
}
