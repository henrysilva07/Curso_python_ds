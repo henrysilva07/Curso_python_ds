{
 "cells": [
  {
   "cell_type": "markdown",
   "id": "aa3e8125",
   "metadata": {},
   "source": [
    "# Análise exploratória dos dados "
   ]
  },
  {
   "cell_type": "markdown",
   "id": "e39433e4",
   "metadata": {},
   "source": [
    "A  House Rocket  é uma empresa do mercado imobiliário, atuando na compra e revenda de imóveis usados. Nesse contexto, o CEO da empresa busca realizar suas tomadas de decisões por meio de insights retirados de uma base de dados externa que contém informações acerca dos imóveis da região, como preço, número de quartos, banheiros e etc. \n",
    "\n",
    "Para isso O CEO da empresa necesita das repostas das seguintes perguntas:\n",
    "\n",
    "\n",
    "1. Quantas casas estão disponíveis para compra?\n",
    "2. Quantos atributos as casas possuem?\n",
    "3. Quais são os atributos das casas?\n",
    "4. Qual a casa mais cara ( casa com o maior valor de venda )?\n",
    "5. Qual a casa com o maior número de quartos?\n",
    "6. Qual a soma total de quartos do conjunto de dados?\n",
    "7. Quantas casas possuem 2 banheiros?\n",
    "8. Qual o preço médio de todas as casas no conjunto de dados?\n",
    "9. Qual o preço médio de casas com 2 banheiros?\n",
    "10. Qual o preço mínimo entre as casas com 3 quartos?\n",
    "11. Quantas casas possuem mais de 300 metros quadrados na sala\n",
    "de estar?\n",
    "12. Quantas casas tem mais de 2 andares?\n",
    "13. Quantas casas tem vista para o mar?\n",
    "14. Das casas com vista para o mar, quantas tem 3 quartos?\n",
    "15. Das casas com mais de 300 metros quadrados de sala de estar,\n",
    "quantas tem mais de 2 banheiros?\n",
    "\n"
   ]
  },
  {
   "cell_type": "markdown",
   "id": "7f081420",
   "metadata": {},
   "source": [
    "### Importando as bibliotecas"
   ]
  },
  {
   "cell_type": "code",
   "execution_count": 1,
   "id": "f3c582c7",
   "metadata": {},
   "outputs": [],
   "source": [
    "import pandas as pd\n",
    "import numpy as np"
   ]
  },
  {
   "cell_type": "code",
   "execution_count": 2,
   "id": "df67ee04",
   "metadata": {},
   "outputs": [],
   "source": [
    "#Notificação científica\n",
    "np.set_printoptions(suppress=True)\n",
    "pd.set_option('display.float_format', '{:.2f}'.format)"
   ]
  },
  {
   "cell_type": "markdown",
   "id": "434453bb",
   "metadata": {},
   "source": [
    "### Carregando o dataset"
   ]
  },
  {
   "cell_type": "code",
   "execution_count": 3,
   "id": "fe99a547",
   "metadata": {},
   "outputs": [],
   "source": [
    "df = pd.read_csv(r'dataset\\kc_house_data.csv')"
   ]
  },
  {
   "cell_type": "code",
   "execution_count": 4,
   "id": "a30a7849",
   "metadata": {},
   "outputs": [
    {
     "data": {
      "text/html": [
       "<div>\n",
       "<style scoped>\n",
       "    .dataframe tbody tr th:only-of-type {\n",
       "        vertical-align: middle;\n",
       "    }\n",
       "\n",
       "    .dataframe tbody tr th {\n",
       "        vertical-align: top;\n",
       "    }\n",
       "\n",
       "    .dataframe thead th {\n",
       "        text-align: right;\n",
       "    }\n",
       "</style>\n",
       "<table border=\"1\" class=\"dataframe\">\n",
       "  <thead>\n",
       "    <tr style=\"text-align: right;\">\n",
       "      <th></th>\n",
       "      <th>id</th>\n",
       "      <th>date</th>\n",
       "      <th>price</th>\n",
       "      <th>bedrooms</th>\n",
       "      <th>bathrooms</th>\n",
       "      <th>sqft_living</th>\n",
       "      <th>sqft_lot</th>\n",
       "      <th>floors</th>\n",
       "      <th>waterfront</th>\n",
       "      <th>view</th>\n",
       "      <th>...</th>\n",
       "      <th>grade</th>\n",
       "      <th>sqft_above</th>\n",
       "      <th>sqft_basement</th>\n",
       "      <th>yr_built</th>\n",
       "      <th>yr_renovated</th>\n",
       "      <th>zipcode</th>\n",
       "      <th>lat</th>\n",
       "      <th>long</th>\n",
       "      <th>sqft_living15</th>\n",
       "      <th>sqft_lot15</th>\n",
       "    </tr>\n",
       "  </thead>\n",
       "  <tbody>\n",
       "    <tr>\n",
       "      <th>0</th>\n",
       "      <td>7129300520</td>\n",
       "      <td>20141013T000000</td>\n",
       "      <td>221900.00</td>\n",
       "      <td>3</td>\n",
       "      <td>1.00</td>\n",
       "      <td>1180</td>\n",
       "      <td>5650</td>\n",
       "      <td>1.00</td>\n",
       "      <td>0</td>\n",
       "      <td>0</td>\n",
       "      <td>...</td>\n",
       "      <td>7</td>\n",
       "      <td>1180</td>\n",
       "      <td>0</td>\n",
       "      <td>1955</td>\n",
       "      <td>0</td>\n",
       "      <td>98178</td>\n",
       "      <td>47.51</td>\n",
       "      <td>-122.26</td>\n",
       "      <td>1340</td>\n",
       "      <td>5650</td>\n",
       "    </tr>\n",
       "    <tr>\n",
       "      <th>1</th>\n",
       "      <td>6414100192</td>\n",
       "      <td>20141209T000000</td>\n",
       "      <td>538000.00</td>\n",
       "      <td>3</td>\n",
       "      <td>2.25</td>\n",
       "      <td>2570</td>\n",
       "      <td>7242</td>\n",
       "      <td>2.00</td>\n",
       "      <td>0</td>\n",
       "      <td>0</td>\n",
       "      <td>...</td>\n",
       "      <td>7</td>\n",
       "      <td>2170</td>\n",
       "      <td>400</td>\n",
       "      <td>1951</td>\n",
       "      <td>1991</td>\n",
       "      <td>98125</td>\n",
       "      <td>47.72</td>\n",
       "      <td>-122.32</td>\n",
       "      <td>1690</td>\n",
       "      <td>7639</td>\n",
       "    </tr>\n",
       "    <tr>\n",
       "      <th>2</th>\n",
       "      <td>5631500400</td>\n",
       "      <td>20150225T000000</td>\n",
       "      <td>180000.00</td>\n",
       "      <td>2</td>\n",
       "      <td>1.00</td>\n",
       "      <td>770</td>\n",
       "      <td>10000</td>\n",
       "      <td>1.00</td>\n",
       "      <td>0</td>\n",
       "      <td>0</td>\n",
       "      <td>...</td>\n",
       "      <td>6</td>\n",
       "      <td>770</td>\n",
       "      <td>0</td>\n",
       "      <td>1933</td>\n",
       "      <td>0</td>\n",
       "      <td>98028</td>\n",
       "      <td>47.74</td>\n",
       "      <td>-122.23</td>\n",
       "      <td>2720</td>\n",
       "      <td>8062</td>\n",
       "    </tr>\n",
       "    <tr>\n",
       "      <th>3</th>\n",
       "      <td>2487200875</td>\n",
       "      <td>20141209T000000</td>\n",
       "      <td>604000.00</td>\n",
       "      <td>4</td>\n",
       "      <td>3.00</td>\n",
       "      <td>1960</td>\n",
       "      <td>5000</td>\n",
       "      <td>1.00</td>\n",
       "      <td>0</td>\n",
       "      <td>0</td>\n",
       "      <td>...</td>\n",
       "      <td>7</td>\n",
       "      <td>1050</td>\n",
       "      <td>910</td>\n",
       "      <td>1965</td>\n",
       "      <td>0</td>\n",
       "      <td>98136</td>\n",
       "      <td>47.52</td>\n",
       "      <td>-122.39</td>\n",
       "      <td>1360</td>\n",
       "      <td>5000</td>\n",
       "    </tr>\n",
       "    <tr>\n",
       "      <th>4</th>\n",
       "      <td>1954400510</td>\n",
       "      <td>20150218T000000</td>\n",
       "      <td>510000.00</td>\n",
       "      <td>3</td>\n",
       "      <td>2.00</td>\n",
       "      <td>1680</td>\n",
       "      <td>8080</td>\n",
       "      <td>1.00</td>\n",
       "      <td>0</td>\n",
       "      <td>0</td>\n",
       "      <td>...</td>\n",
       "      <td>8</td>\n",
       "      <td>1680</td>\n",
       "      <td>0</td>\n",
       "      <td>1987</td>\n",
       "      <td>0</td>\n",
       "      <td>98074</td>\n",
       "      <td>47.62</td>\n",
       "      <td>-122.05</td>\n",
       "      <td>1800</td>\n",
       "      <td>7503</td>\n",
       "    </tr>\n",
       "  </tbody>\n",
       "</table>\n",
       "<p>5 rows × 21 columns</p>\n",
       "</div>"
      ],
      "text/plain": [
       "           id             date     price  bedrooms  bathrooms  sqft_living  \\\n",
       "0  7129300520  20141013T000000 221900.00         3       1.00         1180   \n",
       "1  6414100192  20141209T000000 538000.00         3       2.25         2570   \n",
       "2  5631500400  20150225T000000 180000.00         2       1.00          770   \n",
       "3  2487200875  20141209T000000 604000.00         4       3.00         1960   \n",
       "4  1954400510  20150218T000000 510000.00         3       2.00         1680   \n",
       "\n",
       "   sqft_lot  floors  waterfront  view  ...  grade  sqft_above  sqft_basement  \\\n",
       "0      5650    1.00           0     0  ...      7        1180              0   \n",
       "1      7242    2.00           0     0  ...      7        2170            400   \n",
       "2     10000    1.00           0     0  ...      6         770              0   \n",
       "3      5000    1.00           0     0  ...      7        1050            910   \n",
       "4      8080    1.00           0     0  ...      8        1680              0   \n",
       "\n",
       "   yr_built  yr_renovated  zipcode   lat    long  sqft_living15  sqft_lot15  \n",
       "0      1955             0    98178 47.51 -122.26           1340        5650  \n",
       "1      1951          1991    98125 47.72 -122.32           1690        7639  \n",
       "2      1933             0    98028 47.74 -122.23           2720        8062  \n",
       "3      1965             0    98136 47.52 -122.39           1360        5000  \n",
       "4      1987             0    98074 47.62 -122.05           1800        7503  \n",
       "\n",
       "[5 rows x 21 columns]"
      ]
     },
     "execution_count": 4,
     "metadata": {},
     "output_type": "execute_result"
    }
   ],
   "source": [
    "#Imprimindo os 5 primeiros caracteres\n",
    "df.head(5)"
   ]
  },
  {
   "cell_type": "markdown",
   "id": "c6001033",
   "metadata": {},
   "source": [
    "### Respondendo as perguntas acerca do dataset"
   ]
  },
  {
   "cell_type": "markdown",
   "id": "eeb11eec",
   "metadata": {},
   "source": [
    "#### 1. Quantas casas estão disponíveis para compra?"
   ]
  },
  {
   "cell_type": "code",
   "execution_count": 9,
   "id": "f8e53de7",
   "metadata": {},
   "outputs": [
    {
     "name": "stdout",
     "output_type": "stream",
     "text": [
      "O número de casas disponíveis para venda é 21436\n"
     ]
    }
   ],
   "source": [
    "# solução: cada id representa um imóvel\n",
    "num_casa_unique = df['id'].nunique()\n",
    "print(f\"O número de casas disponíveis para venda é {num_casa_unique}\")"
   ]
  },
  {
   "cell_type": "markdown",
   "id": "78d7b2de",
   "metadata": {},
   "source": [
    "#### 2. Quantos atributos as casas possuem?\n"
   ]
  },
  {
   "cell_type": "code",
   "execution_count": 13,
   "id": "d1213511",
   "metadata": {},
   "outputs": [
    {
     "name": "stdout",
     "output_type": "stream",
     "text": [
      "A casa possui 19 atributos. \n"
     ]
    }
   ],
   "source": [
    "# Para ter o número de atributos da casa , basta contar o número de colunas, excluindo as colunas id e date\n",
    "print(f\"A casa possui {df.shape[1] -2} atributos. \")"
   ]
  },
  {
   "cell_type": "markdown",
   "id": "b8fb6142",
   "metadata": {},
   "source": [
    "#### 3. Quais são os atributos das casas?\n"
   ]
  },
  {
   "cell_type": "code",
   "execution_count": 17,
   "id": "c92fa105",
   "metadata": {},
   "outputs": [
    {
     "data": {
      "text/plain": [
       "Index(['price', 'bedrooms', 'bathrooms', 'sqft_living', 'sqft_lot', 'floors',\n",
       "       'waterfront', 'view', 'condition', 'grade', 'sqft_above',\n",
       "       'sqft_basement', 'yr_built', 'yr_renovated', 'zipcode', 'lat', 'long',\n",
       "       'sqft_living15', 'sqft_lot15'],\n",
       "      dtype='object')"
      ]
     },
     "execution_count": 17,
     "metadata": {},
     "output_type": "execute_result"
    }
   ],
   "source": [
    "#Retornando os nomes dos atributos\n",
    "df.drop(['id', 'date'] , axis = 'columns').columns"
   ]
  },
  {
   "cell_type": "markdown",
   "id": "97bda3c9",
   "metadata": {},
   "source": [
    "#### 4. Qual a casa mais cara ( casa com o maior valor de venda )?\n"
   ]
  },
  {
   "cell_type": "code",
   "execution_count": 24,
   "id": "be59dcf9",
   "metadata": {},
   "outputs": [
    {
     "name": "stdout",
     "output_type": "stream",
     "text": [
      "a casa mais valiosa é 7129300520\n"
     ]
    }
   ],
   "source": [
    "# O preço da casa é indicado pelo atributo price, então basta ordenador as casas pelo seu preço\n",
    "casa_valiosa = df.sort_values(by = 'price' , ascending = False).loc[0,'id'] # retornando o ID da casa mais valiosa\n",
    "print(f\"a casa mais valiosa é {casa_valiosa}\")"
   ]
  },
  {
   "cell_type": "markdown",
   "id": "e2a0d444",
   "metadata": {},
   "source": [
    "#### 5. Qual a casa com o maior número de quartos?"
   ]
  },
  {
   "cell_type": "code",
   "execution_count": 32,
   "id": "ff4fa7ff",
   "metadata": {},
   "outputs": [
    {
     "name": "stdout",
     "output_type": "stream",
     "text": [
      "a casa com um maior número de quartos é 2402100895\n"
     ]
    }
   ],
   "source": [
    "casa_mais_quartos = df.sort_values(by = 'bedrooms' , ascending = False).iloc[0, 0] \n",
    "print(f\"a casa com um maior número de quartos é {casa_mais_quartos}\")"
   ]
  },
  {
   "cell_type": "markdown",
   "id": "707b1f58",
   "metadata": {},
   "source": [
    "#### 6. Qual a soma total de quartos do conjunto de dados?"
   ]
  },
  {
   "cell_type": "code",
   "execution_count": 33,
   "id": "6196d977",
   "metadata": {},
   "outputs": [
    {
     "name": "stdout",
     "output_type": "stream",
     "text": [
      "O número total de quartos do nosso conjunto de dados é 72854\n"
     ]
    }
   ],
   "source": [
    "# Para calcular o núemro de quartos total, basta realizar uma soma de todos os quartos\n",
    "print(f\"O número total de quartos do nosso conjunto de dados é {df['bedrooms'].sum()}\")"
   ]
  },
  {
   "cell_type": "markdown",
   "id": "0dc1e894",
   "metadata": {},
   "source": [
    "#### 7. Quantas casas possuem 2 banheiros?"
   ]
  },
  {
   "cell_type": "code",
   "execution_count": 36,
   "id": "7a2d890f",
   "metadata": {},
   "outputs": [
    {
     "name": "stdout",
     "output_type": "stream",
     "text": [
      "O número de casas com  dois  banheiros é  1930\n"
     ]
    }
   ],
   "source": [
    "# Primeiro precisamos saber o número de casas que possuem mais de um banheiro \n",
    "filtro = df['bathrooms'] == 2 # Filtrando o número de casa com mais de dois quartos\n",
    "\n",
    "print(f\"O número de casas com  dois  banheiros é  {df[filtro].shape[0]}\")"
   ]
  },
  {
   "cell_type": "markdown",
   "id": "95906710",
   "metadata": {},
   "source": [
    "#### 8. Qual o preço médio de todas as casas no conjunto de dados?"
   ]
  },
  {
   "cell_type": "code",
   "execution_count": 36,
   "id": "992417cc",
   "metadata": {},
   "outputs": [
    {
     "name": "stdout",
     "output_type": "stream",
     "text": [
      "O preço médio das casas é $540088.14\n"
     ]
    }
   ],
   "source": [
    "# Calculando o preço médio\n",
    "print(f'O preço médio das casas é ${df[\"price\"].mean() :.2f}')"
   ]
  },
  {
   "cell_type": "markdown",
   "id": "cdd3a052",
   "metadata": {},
   "source": [
    "\n",
    "#### 9. Qual o preço médio de casas com 2 banheiros?"
   ]
  },
  {
   "cell_type": "code",
   "execution_count": 37,
   "id": "e1e050fe",
   "metadata": {},
   "outputs": [
    {
     "name": "stdout",
     "output_type": "stream",
     "text": [
      "O preço médio das casas com dois banheiros é $457889.72\n"
     ]
    }
   ],
   "source": [
    "filtro = df['bathrooms'] == 2 # Filtrando o número de casa com mais de dois quartos\n",
    "\n",
    "\n",
    "print(f\"O preço médio das casas com dois banheiros é ${ df[filtro].loc[: ,'price'].mean() :.2f}\")"
   ]
  },
  {
   "cell_type": "markdown",
   "id": "46f3bcf9",
   "metadata": {},
   "source": [
    "#### 10. Qual o preço mínimo entre as casas com 3 quartos?"
   ]
  },
  {
   "cell_type": "code",
   "execution_count": 41,
   "id": "4949daa2",
   "metadata": {},
   "outputs": [
    {
     "name": "stdout",
     "output_type": "stream",
     "text": [
      "O preço mínimo para uma casa com três quartos é $82000.00\n"
     ]
    }
   ],
   "source": [
    "price_min = df[df['bedrooms'] == 3].sort_values(by = 'price', ascending = True).iloc[0,2]\n",
    "print(f\"O preço mínimo para uma casa com três quartos é ${price_min :.2f}\")"
   ]
  },
  {
   "cell_type": "markdown",
   "id": "238ea290",
   "metadata": {},
   "source": [
    "\n",
    "#### 11. Quantas casas possuem mais de 300 metros quadrados na sala de estar?"
   ]
  },
  {
   "cell_type": "code",
   "execution_count": 42,
   "id": "e9764a1c",
   "metadata": {},
   "outputs": [
    {
     "name": "stdout",
     "output_type": "stream",
     "text": [
      "O número de casas que possuem mais de 300 m2 na sala de estar  é 21613\n"
     ]
    }
   ],
   "source": [
    "# O atributo sqft_living15 indica o número de metros quadrados da sala de estar \n",
    "print(f\"O número de casas que possuem mais de 300 m2 na sala de estar  é {df[df['sqft_living15'] > 300.0].shape[0]}\")"
   ]
  },
  {
   "cell_type": "markdown",
   "id": "b39cea32",
   "metadata": {},
   "source": [
    "#### 12. Quantas casas tem mais de 2 andares?"
   ]
  },
  {
   "cell_type": "code",
   "execution_count": 43,
   "id": "f74a6eec",
   "metadata": {},
   "outputs": [
    {
     "name": "stdout",
     "output_type": "stream",
     "text": [
      "O número de casas que possuem mais de 3 andares é 782\n"
     ]
    }
   ],
   "source": [
    "# Flowrs indica o número de pisos na casa \n",
    "print(f\"O número de casas que possuem mais de 3 andares é {df[df['floors'] > 2].shape[0]}\")"
   ]
  },
  {
   "cell_type": "markdown",
   "id": "f708c5f4",
   "metadata": {},
   "source": [
    "#### 13. Quantas casas tem vista para o mar?"
   ]
  },
  {
   "cell_type": "code",
   "execution_count": 97,
   "id": "92af51a8",
   "metadata": {},
   "outputs": [
    {
     "name": "stdout",
     "output_type": "stream",
     "text": [
      "O número de casas que possuem vista para o mar é 163\n"
     ]
    }
   ],
   "source": [
    "print(f\"O número de casas que possuem vista para o mar é {df[df['waterfront'] == 1].shape[0]}\")"
   ]
  },
  {
   "cell_type": "markdown",
   "id": "f638d2c5",
   "metadata": {},
   "source": [
    "#### 14. Das casas com vista para o mar, quantas tem 3 quartos?\n"
   ]
  },
  {
   "cell_type": "code",
   "execution_count": 54,
   "id": "c604cac8",
   "metadata": {},
   "outputs": [
    {
     "name": "stdout",
     "output_type": "stream",
     "text": [
      "O número de casas que possuem vista para o mar e 3 quartos é 64\n"
     ]
    }
   ],
   "source": [
    "print(f\"O número de casas que possuem vista para o mar e 3 quartos é {df.loc[(df['waterfront'] == 1) & (df['bedrooms'] == 3), 'id' ].shape[0]}\")"
   ]
  },
  {
   "cell_type": "markdown",
   "id": "b9a3ff87",
   "metadata": {},
   "source": [
    "#### 15. Das casas com mais de 300 metros quadrados de sala de estar, quantas tem mais de 2 banheiros?"
   ]
  },
  {
   "cell_type": "code",
   "execution_count": 55,
   "id": "2e71c54a",
   "metadata": {},
   "outputs": [
    {
     "name": "stdout",
     "output_type": "stream",
     "text": [
      "O número de casas que possuem sala de estar com + 300 m2 e 2 banheiros é 11242\n"
     ]
    }
   ],
   "source": [
    "print(f\"O número de casas que possuem sala de estar com + 300 m2 e 2 banheiros é {df[(df['sqft_living15'] > 300.0) & (df['bathrooms'] > 2.0) ].shape[0]}\")"
   ]
  },
  {
   "cell_type": "markdown",
   "id": "f8127142",
   "metadata": {},
   "source": [
    "### Concluido"
   ]
  }
 ],
 "metadata": {
  "kernelspec": {
   "display_name": "Python 3 (ipykernel)",
   "language": "python",
   "name": "python3"
  },
  "language_info": {
   "codemirror_mode": {
    "name": "ipython",
    "version": 3
   },
   "file_extension": ".py",
   "mimetype": "text/x-python",
   "name": "python",
   "nbconvert_exporter": "python",
   "pygments_lexer": "ipython3",
   "version": "3.9.7"
  }
 },
 "nbformat": 4,
 "nbformat_minor": 5
}
